{
  "cells": [
    {
      "cell_type": "markdown",
      "metadata": {
        "id": "view-in-github",
        "colab_type": "text"
      },
      "source": [
        "<a href=\"https://colab.research.google.com/github/DamianS18/Matma/blob/main/Kopia_notatnika_LA_SoLE_Cramer.ipynb\" target=\"_parent\"><img src=\"https://colab.research.google.com/assets/colab-badge.svg\" alt=\"Open In Colab\"/></a>"
      ]
    },
    {
      "cell_type": "markdown",
      "metadata": {
        "id": "AmVlkMITjZ15"
      },
      "source": [
        "# Wzory Cramera - Przykłady dla układów 2x2, 3x3 i 4x4\n",
        "\n",
        "Wzory Cramera są używane tylko wtedy gdy liczba równań jest równa liczbie niewiadomych. Inaczej mówiąc, macierz współczynników musi być macierzą kwadratową.\n",
        "\n",
        "**Wzory te są używane tylko wtedy**, gdy **wyznacznik** macierzy współczynników jest **różny od zera**. W przeciwnym razie układ równań jest sprzeczny lub nieoznaczony.\n",
        "\n",
        "## Układ równań 2x2\n",
        "\n",
        "Rozważmy układ dwóch równań z dwiema niewiadomymi:\n",
        "\n",
        "$$\n",
        "\\begin{cases}\n",
        "a_{11}x_1 + a_{12}x_2 = b_1 \\\\\n",
        "a_{21}x_1 + a_{22}x_2 = b_2\n",
        "\\end{cases}\n",
        "$$\n",
        "\n",
        "Wzory Cramera dla niewiadomych $ x_1 $ i $ x_2 $ są następujące:\n",
        "\n",
        "$$\n",
        "x_1 = \\frac{\\det(A_1)}{\\det(A)} \\quad \\text{oraz} \\quad x_2 = \\frac{\\det(A_2)}{\\det(A)}\n",
        "$$\n",
        "\n",
        "Gdzie:\n",
        "\n",
        "$$\n",
        "\\det(A) =\n",
        "\\begin{vmatrix}\n",
        "a_{11} & a_{12} \\\\\n",
        "a_{21} & a_{22}\n",
        "\\end{vmatrix}\n",
        "= a_{11}a_{22} - a_{12}a_{21}\n",
        "$$\n",
        "\n",
        "$$\n",
        "\\det(A_1) =\n",
        "\\begin{vmatrix}\n",
        "b_1 & a_{12} \\\\\n",
        "b_2 & a_{22}\n",
        "\\end{vmatrix}\n",
        "= b_1a_{22} - a_{12}b_2\n",
        "$$\n",
        "\n",
        "$$\n",
        "\\det(A_2) =\n",
        "\\begin{vmatrix}\n",
        "a_{11} & b_1 \\\\\n",
        "a_{21} & b_2\n",
        "\\end{vmatrix}\n",
        "= a_{11}b_2 - b_1a_{21}\n",
        "$$\n",
        "\n",
        "## Układ równań 3x3\n",
        "\n",
        "Rozważmy układ trzech równań z trzema niewiadomymi:\n",
        "\n",
        "$$\n",
        "\\begin{cases}\n",
        "a_{11}x_1 + a_{12}x_2 + a_{13}x_3 = b_1 \\\\\n",
        "a_{21}x_1 + a_{22}x_2 + a_{23}x_3 = b_2 \\\\\n",
        "a_{31}x_1 + a_{32}x_2 + a_{33}x_3 = b_3\n",
        "\\end{cases}\n",
        "$$\n",
        "\n",
        "Wzory Cramera dla $ x_1 $, $ x_2 $ i $ x_3 $:\n",
        "\n",
        "$$\n",
        "x_1 = \\frac{\\det(A_1)}{\\det(A)} \\quad x_2 = \\frac{\\det(A_2)}{\\det(A)} \\quad x_3 = \\frac{\\det(A_3)}{\\det(A)}\n",
        "$$\n",
        "\n",
        "Gdzie:\n",
        "\n",
        "$$\n",
        "\\det(A) =\n",
        "\\begin{vmatrix}\n",
        "a_{11} & a_{12} & a_{13} \\\\\n",
        "a_{21} & a_{22} & a_{23} \\\\\n",
        "a_{31} & a_{32} & a_{33}\n",
        "\\end{vmatrix}\n",
        "$$\n",
        "\n",
        "$$\n",
        "\\det(A_1) =\n",
        "\\begin{vmatrix}\n",
        "b_1 & a_{12} & a_{13} \\\\\n",
        "b_2 & a_{22} & a_{23} \\\\\n",
        "b_3 & a_{32} & a_{33}\n",
        "\\end{vmatrix}\n",
        "$$\n",
        "\n",
        "$$\n",
        "\\det(A_2) =\n",
        "\\begin{vmatrix}\n",
        "a_{11} & b_1 & a_{13} \\\\\n",
        "a_{21} & b_2 & a_{23} \\\\\n",
        "a_{31} & b_3 & a_{33}\n",
        "\\end{vmatrix}\n",
        "$$\n",
        "\n",
        "$$\n",
        "\\det(A_3) =\n",
        "\\begin{vmatrix}\n",
        "a_{11} & a_{12} & b_1 \\\\\n",
        "a_{21} & a_{22} & b_2 \\\\\n",
        "a_{31} & a_{32} & b_3\n",
        "\\end{vmatrix}\n",
        "$$\n",
        "\n",
        "## Układ równań 4x4\n",
        "\n",
        "Rozważmy układ czterech równań z czterema niewiadomymi:\n",
        "\n",
        "$$\n",
        "\\begin{cases}\n",
        "a_{11}x_1 + a_{12}x_2 + a_{13}x_3 + a_{14}x_4 = b_1 \\\\\n",
        "a_{21}x_1 + a_{22}x_2 + a_{23}x_3 + a_{24}x_4 = b_2 \\\\\n",
        "a_{31}x_1 + a_{32}x_2 + a_{33}x_3 + a_{34}x_4 = b_3 \\\\\n",
        "a_{41}x_1 + a_{42}x_2 + a_{43}x_3 + a_{44}x_4 = b_4\n",
        "\\end{cases}\n",
        "$$\n",
        "\n",
        "Wzory Cramera dla $ x_1 $, $ x_2 $, $ x_3 $ i $ x_4 $:\n",
        "\n",
        "$$\n",
        "x_1 = \\frac{\\det(A_1)}{\\det(A)} \\quad x_2 = \\frac{\\det(A_2)}{\\det(A)} \\quad x_3 = \\frac{\\det(A_3)}{\\det(A)} \\quad x_4 = \\frac{\\det(A_4)}{\\det(A)}\n",
        "$$\n",
        "\n",
        "Gdzie:\n",
        "\n",
        "$$\n",
        "\\det(A) =\n",
        "\\begin{vmatrix}\n",
        "a_{11} & a_{12} & a_{13} & a_{14} \\\\\n",
        "a_{21} & a_{22} & a_{23} & a_{24} \\\\\n",
        "a_{31} & a_{32} & a_{33} & a_{34} \\\\\n",
        "a_{41} & a_{42} & a_{43} & a_{44}\n",
        "\\end{vmatrix}\n",
        "$$\n",
        "\n",
        "$$\n",
        "\\det(A_1) =\n",
        "\\begin{vmatrix}\n",
        "b_1 & a_{12} & a_{13} & a_{14} \\\\\n",
        "b_2 & a_{22} & a_{23} & a_{24} \\\\\n",
        "b_3 & a_{32} & a_{33} & a_{34} \\\\\n",
        "b_4 & a_{42} & a_{43} & a_{44}\n",
        "\\end{vmatrix}\n",
        "$$\n",
        "\n",
        "$$\n",
        "\\det(A_2) =\n",
        "\\begin{vmatrix}\n",
        "a_{11} & b_1 & a_{13} & a_{14} \\\\\n",
        "a_{21} & b_2 & a_{23} & a_{24} \\\\\n",
        "a_{31} & b_3 & a_{33} & a_{34} \\\\\n",
        "a_{41} & b_4 & a_{43} & a_{44}\n",
        "\\end{vmatrix}\n",
        "$$\n",
        "\n",
        "$$\n",
        "\\det(A_3) =\n",
        "\\begin{vmatrix}\n",
        "a_{11} & a_{12} & b_1 & a_{14} \\\\\n",
        "a_{21} & a_{22} & b_2 & a_{24} \\\\\n",
        "a_{31} & a_{32} & b_3 & a_{34} \\\\\n",
        "a_{41} & a_{42} & b_4 & a_{44}\n",
        "\\end{vmatrix}\n",
        "$$\n",
        "\n",
        "$$\n",
        "\\det(A_4) =\n",
        "\\begin{vmatrix}\n",
        "a_{11} & a_{12} & a_{13} & b_1 \\\\\n",
        "a_{21} & a_{22} & a_{23} & b_2 \\\\\n",
        "a_{31} & a_{32} & a_{33} & b_3 \\\\\n",
        "a_{41} & a_{42} & a_{43} & b_4\n",
        "\\end{vmatrix}\n",
        "$$\n"
      ]
    },
    {
      "cell_type": "markdown",
      "metadata": {
        "id": "siHb0GZIjZ18"
      },
      "source": [
        "## Przykład"
      ]
    },
    {
      "cell_type": "code",
      "execution_count": null,
      "metadata": {
        "id": "j0o-cwjDjZ18"
      },
      "outputs": [],
      "source": [
        "import sympy as sp\n",
        "\n",
        "# Definiowanie symboli\n",
        "x, y, z = sp.symbols('x y z')\n",
        "\n",
        "# Definicja układu równań\n",
        "eq1 = sp.Eq(2*x + 3*y + z, 1)\n",
        "eq2 = sp.Eq(3*x + 2*y + 2*z, 2)\n",
        "eq3 = sp.Eq(x + y + z, 3)\n",
        "\n",
        "# Macierz odpowiedniego układu równań\n",
        "A = sp.Matrix([[2, 3, 1], [3, 2, 2], [1, 1, 1]])\n",
        "# wektor wyrazów wolnych\n",
        "b = sp.Matrix([1, 2, 3])"
      ]
    },
    {
      "cell_type": "code",
      "execution_count": null,
      "metadata": {
        "id": "ybelICcXjZ19",
        "outputId": "5d66a0b6-73dc-4ad9-dd36-fae7ef69fcf6",
        "colab": {
          "base_uri": "https://localhost:8080/",
          "height": 78
        }
      },
      "outputs": [
        {
          "output_type": "execute_result",
          "data": {
            "text/plain": [
              "Matrix([\n",
              "[2, 3, 1],\n",
              "[3, 2, 2],\n",
              "[1, 1, 1]])"
            ],
            "text/latex": "$\\displaystyle \\left[\\begin{matrix}2 & 3 & 1\\\\3 & 2 & 2\\\\1 & 1 & 1\\end{matrix}\\right]$"
          },
          "metadata": {},
          "execution_count": 2
        }
      ],
      "source": [
        "A"
      ]
    },
    {
      "cell_type": "code",
      "execution_count": null,
      "metadata": {
        "id": "zLlIY1KhjZ1-",
        "outputId": "28b8502f-4a49-49da-c51a-847e9e958a6d",
        "colab": {
          "base_uri": "https://localhost:8080/",
          "height": 78
        }
      },
      "outputs": [
        {
          "output_type": "execute_result",
          "data": {
            "text/plain": [
              "Matrix([\n",
              "[1],\n",
              "[2],\n",
              "[3]])"
            ],
            "text/latex": "$\\displaystyle \\left[\\begin{matrix}1\\\\2\\\\3\\end{matrix}\\right]$"
          },
          "metadata": {},
          "execution_count": 7
        }
      ],
      "source": [
        "b"
      ]
    },
    {
      "cell_type": "code",
      "execution_count": null,
      "metadata": {
        "id": "-3fNH0WgjZ1_",
        "outputId": "693ae315-1bc6-4316-f532-6ae58d0a7c93",
        "colab": {
          "base_uri": "https://localhost:8080/",
          "height": 78
        }
      },
      "outputs": [
        {
          "output_type": "execute_result",
          "data": {
            "text/plain": [
              "Matrix([\n",
              "[1, 3, 1],\n",
              "[2, 2, 2],\n",
              "[3, 1, 1]])"
            ],
            "text/latex": "$\\displaystyle \\left[\\begin{matrix}1 & 3 & 1\\\\2 & 2 & 2\\\\3 & 1 & 1\\end{matrix}\\right]$"
          },
          "metadata": {},
          "execution_count": 8
        }
      ],
      "source": [
        "# Zdefiniujmy macierz A_1\n",
        "A_1 = A.copy() # Skopiuj macierz A\n",
        "A_1[:, 0] = b # Zamień pierwszą kolumnę macierzy A na wektor b\n",
        "A_1 # sprawdzamy czy zamiana się udała"
      ]
    },
    {
      "cell_type": "code",
      "execution_count": null,
      "metadata": {
        "id": "hVnpkasUjZ2A",
        "outputId": "b4057279-1625-4b52-d676-e26f6a235c90",
        "colab": {
          "base_uri": "https://localhost:8080/",
          "height": 37
        }
      },
      "outputs": [
        {
          "output_type": "execute_result",
          "data": {
            "text/plain": [
              "-4"
            ],
            "text/latex": "$\\displaystyle -4$"
          },
          "metadata": {},
          "execution_count": 9
        }
      ],
      "source": [
        "\n",
        "det_A_1 = A_1.det() # Oblicz wyznacznik macierzy A_1\n",
        "sol_x = det_A_1 / A.det() # Oblicz x_1\n",
        "sol_x # obliczona wartość x_1"
      ]
    },
    {
      "cell_type": "code",
      "execution_count": null,
      "metadata": {
        "id": "08nfjlBYjZ2A",
        "outputId": "ed62ae37-b6a1-4e8a-cfc1-b3f2f3392736",
        "colab": {
          "base_uri": "https://localhost:8080/",
          "height": 78
        }
      },
      "outputs": [
        {
          "output_type": "execute_result",
          "data": {
            "text/plain": [
              "Matrix([\n",
              "[2, 1, 1],\n",
              "[3, 2, 2],\n",
              "[1, 3, 1]])"
            ],
            "text/latex": "$\\displaystyle \\left[\\begin{matrix}2 & 1 & 1\\\\3 & 2 & 2\\\\1 & 3 & 1\\end{matrix}\\right]$"
          },
          "metadata": {},
          "execution_count": 10
        }
      ],
      "source": [
        "# analogicznie dla y\n",
        "A_2 = A.copy()\n",
        "A_2[:, 1] = b\n",
        "A_2 # sprawdzamy czy zamiana się udała"
      ]
    },
    {
      "cell_type": "code",
      "execution_count": null,
      "metadata": {
        "id": "1ohMc6QtjZ2B",
        "outputId": "5fe54857-8967-49ac-8f0d-3b9f39971952",
        "colab": {
          "base_uri": "https://localhost:8080/",
          "height": 37
        }
      },
      "outputs": [
        {
          "output_type": "execute_result",
          "data": {
            "text/plain": [
              "1"
            ],
            "text/latex": "$\\displaystyle 1$"
          },
          "metadata": {},
          "execution_count": 11
        }
      ],
      "source": [
        "det_A_2 = A_2.det()\n",
        "sol_y = det_A_2 / A.det()\n",
        "sol_y"
      ]
    },
    {
      "cell_type": "code",
      "execution_count": null,
      "metadata": {
        "id": "xLiPGIc_jZ2C",
        "outputId": "b481cf14-172c-4ddf-8b06-754103bd42dd",
        "colab": {
          "base_uri": "https://localhost:8080/",
          "height": 37
        }
      },
      "outputs": [
        {
          "output_type": "execute_result",
          "data": {
            "text/plain": [
              "6"
            ],
            "text/latex": "$\\displaystyle 6$"
          },
          "metadata": {},
          "execution_count": 12
        }
      ],
      "source": [
        "# ostatecznie dla z\n",
        "A_3 = A.copy()\n",
        "A_3[:, 2] = b\n",
        "det_A_3 = A_3.det()\n",
        "sol_z = det_A_3 / A.det()\n",
        "sol_z"
      ]
    },
    {
      "cell_type": "code",
      "execution_count": null,
      "metadata": {
        "id": "M1n2SUEgjZ2C",
        "outputId": "2f297a33-a37f-4c1d-89ef-6312644457c7",
        "colab": {
          "base_uri": "https://localhost:8080/"
        }
      },
      "outputs": [
        {
          "output_type": "execute_result",
          "data": {
            "text/plain": [
              "{x: -4, y: 1, z: 6}"
            ]
          },
          "metadata": {},
          "execution_count": 13
        }
      ],
      "source": [
        "# Rozwiązanie układu równań\n",
        "sp.solve((eq1, eq2, eq3), (x, y, z))"
      ]
    },
    {
      "cell_type": "markdown",
      "metadata": {
        "id": "tpEN75hsjZ2C"
      },
      "source": [
        "---\n",
        "\n",
        "## Zadania dla studentów\n",
        "\n",
        "1. Rozwiąż układ równań:\n",
        "   $$\n",
        "   \\begin{cases}\n",
        "   2x_1 - 3x_2 = 7 \\\\\n",
        "   3x_1 + 5x_2 = 2\n",
        "   \\end{cases}\n",
        "   $$\n",
        "\n",
        "2. Rozwiąż układ równań:\n",
        "   $$\n",
        "   \\begin{cases}\n",
        "   2x + y - z = 1 \\\\\n",
        "   x - y + 2z = 4 \\\\\n",
        "   3x - 2z = -1\n",
        "   \\end{cases}\n",
        "   $$\n",
        "\n",
        "3. Rozwiąż układ równań:\n",
        "   $$\n",
        "   \\begin{cases}\n",
        "   x + y + z - t = 2 \\\\\n",
        "   x - z + 2t = 6 \\\\\n",
        "   2x - 3y + t = 4 \\\\\n",
        "   3x + y + 3z - 4t = -2\n",
        "   \\end{cases}\n",
        "   $$\n",
        "\n",
        "4. Dlaczego nie można rozwiązać układ równań poniżej za pomocą wzorów Cramera?\n",
        "$$\n",
        "\\begin{cases}\n",
        "x_1 + 2x_2 + 3x_3 = 3 \\\\\n",
        "4x_1 + 5x_2 + 6x_3 = 2 \\\\\n",
        "7x_1 + 8x_2 + 9x_3 = 1\n",
        "\\end{cases}\n",
        "$$"
      ]
    },
    {
      "cell_type": "code",
      "source": [
        "x, y, z = sp.symbols('x y z')\n",
        "\n",
        "eq1 = sp.Eq(2*x - 3*y, 7)\n",
        "eq2 = sp.Eq(3*x + 5*y, 2)\n",
        "\n",
        "A = sp.Matrix([[2,-3],[3,5]])\n",
        "b = sp.Matrix([7,2])"
      ],
      "metadata": {
        "id": "jMGUENxSk4YV"
      },
      "execution_count": null,
      "outputs": []
    },
    {
      "cell_type": "code",
      "source": [
        "A"
      ],
      "metadata": {
        "colab": {
          "base_uri": "https://localhost:8080/",
          "height": 58
        },
        "id": "6MsmUhELmsHo",
        "outputId": "8453eef2-254e-41d4-fcd0-c082cf2a0ca5"
      },
      "execution_count": null,
      "outputs": [
        {
          "output_type": "execute_result",
          "data": {
            "text/plain": [
              "Matrix([\n",
              "[2, -3],\n",
              "[3,  5]])"
            ],
            "text/latex": "$\\displaystyle \\left[\\begin{matrix}2 & -3\\\\3 & 5\\end{matrix}\\right]$"
          },
          "metadata": {},
          "execution_count": 41
        }
      ]
    },
    {
      "cell_type": "code",
      "source": [
        "b"
      ],
      "metadata": {
        "colab": {
          "base_uri": "https://localhost:8080/",
          "height": 58
        },
        "id": "DCEskjognSwR",
        "outputId": "2324d582-adc9-4d68-90f8-9e217cbacc06"
      },
      "execution_count": null,
      "outputs": [
        {
          "output_type": "execute_result",
          "data": {
            "text/plain": [
              "Matrix([\n",
              "[7],\n",
              "[2]])"
            ],
            "text/latex": "$\\displaystyle \\left[\\begin{matrix}7\\\\2\\end{matrix}\\right]$"
          },
          "metadata": {},
          "execution_count": 42
        }
      ]
    },
    {
      "cell_type": "code",
      "source": [
        "A_1 = A.copy()\n",
        "A_1[:, 0] = b"
      ],
      "metadata": {
        "id": "Hk9f_AzKnf8x"
      },
      "execution_count": null,
      "outputs": []
    },
    {
      "cell_type": "code",
      "source": [
        "det_A_1 = A_1.det()\n",
        "sol_x = det_A_1 / A.det()\n",
        "sol_x"
      ],
      "metadata": {
        "colab": {
          "base_uri": "https://localhost:8080/",
          "height": 51
        },
        "id": "-JV-1qrAo3uj",
        "outputId": "32f77aa2-3325-4410-df17-00985804588b"
      },
      "execution_count": null,
      "outputs": [
        {
          "output_type": "execute_result",
          "data": {
            "text/plain": [
              "41/19"
            ],
            "text/latex": "$\\displaystyle \\frac{41}{19}$"
          },
          "metadata": {},
          "execution_count": 60
        }
      ]
    },
    {
      "cell_type": "code",
      "source": [
        "A_2 = A.copy()\n",
        "A_2[:, 1] = b"
      ],
      "metadata": {
        "id": "nFv0z8BhoXHM"
      },
      "execution_count": null,
      "outputs": []
    },
    {
      "cell_type": "code",
      "source": [
        "det_A_2 = A_2.det()\n",
        "sol_y = det_A_2 / A.det()\n",
        "sol_y"
      ],
      "metadata": {
        "colab": {
          "base_uri": "https://localhost:8080/",
          "height": 51
        },
        "id": "yGc0cfTKqKsw",
        "outputId": "ef94df6f-4a03-4400-a509-9ddbf2278396"
      },
      "execution_count": null,
      "outputs": [
        {
          "output_type": "execute_result",
          "data": {
            "text/plain": [
              "-17/19"
            ],
            "text/latex": "$\\displaystyle - \\frac{17}{19}$"
          },
          "metadata": {},
          "execution_count": 58
        }
      ]
    },
    {
      "cell_type": "code",
      "source": [
        "sp.solve((eq1, eq2), (x, y))"
      ],
      "metadata": {
        "colab": {
          "base_uri": "https://localhost:8080/"
        },
        "id": "OKPegtKtqHdT",
        "outputId": "24da69d6-bb84-490a-d9eb-1122af860563"
      },
      "execution_count": null,
      "outputs": [
        {
          "output_type": "execute_result",
          "data": {
            "text/plain": [
              "{x: 41/19, y: -17/19}"
            ]
          },
          "metadata": {},
          "execution_count": 69
        }
      ]
    },
    {
      "cell_type": "code",
      "source": [
        "eq1 = sp.Eq(2*x + y - z, 1)\n",
        "eq2 = sp.Eq(x - y + 2*z, 4)\n",
        "eq3 = sp.Eq(3*x - 2*z, -1)\n",
        "\n",
        "A = sp.Matrix([[2,1,-1],[1,-1,2],[3,0,-2]])\n",
        "b = sp.Matrix([1,4,-1])"
      ],
      "metadata": {
        "id": "r-nbB30u92EG"
      },
      "execution_count": null,
      "outputs": []
    },
    {
      "cell_type": "code",
      "source": [
        "A"
      ],
      "metadata": {
        "colab": {
          "base_uri": "https://localhost:8080/",
          "height": 78
        },
        "id": "fSFvtfKX_y1N",
        "outputId": "e1fd7180-958f-419c-ad1e-48210ee62cf6"
      },
      "execution_count": null,
      "outputs": [
        {
          "output_type": "execute_result",
          "data": {
            "text/plain": [
              "Matrix([\n",
              "[2,  1, -1],\n",
              "[1, -1,  2],\n",
              "[3,  0, -2]])"
            ],
            "text/latex": "$\\displaystyle \\left[\\begin{matrix}2 & 1 & -1\\\\1 & -1 & 2\\\\3 & 0 & -2\\end{matrix}\\right]$"
          },
          "metadata": {},
          "execution_count": 101
        }
      ]
    },
    {
      "cell_type": "code",
      "source": [
        "b"
      ],
      "metadata": {
        "colab": {
          "base_uri": "https://localhost:8080/",
          "height": 78
        },
        "id": "OyecQYJc_0Uj",
        "outputId": "92ff3dbd-e1c9-4278-bc13-59a2e40fa5fe"
      },
      "execution_count": null,
      "outputs": [
        {
          "output_type": "execute_result",
          "data": {
            "text/plain": [
              "Matrix([\n",
              "[ 1],\n",
              "[ 4],\n",
              "[-1]])"
            ],
            "text/latex": "$\\displaystyle \\left[\\begin{matrix}1\\\\4\\\\-1\\end{matrix}\\right]$"
          },
          "metadata": {},
          "execution_count": 102
        }
      ]
    },
    {
      "cell_type": "code",
      "source": [
        "A_1 = A.copy()\n",
        "A_1[:, 0] = b\n",
        "A_1"
      ],
      "metadata": {
        "colab": {
          "base_uri": "https://localhost:8080/",
          "height": 78
        },
        "id": "E_XDzXls_8fR",
        "outputId": "9f0cfbc4-6271-4a00-c8aa-a3bc0532ba09"
      },
      "execution_count": null,
      "outputs": [
        {
          "output_type": "execute_result",
          "data": {
            "text/plain": [
              "Matrix([\n",
              "[ 1,  1, -1],\n",
              "[ 4, -1,  2],\n",
              "[-1,  0, -2]])"
            ],
            "text/latex": "$\\displaystyle \\left[\\begin{matrix}1 & 1 & -1\\\\4 & -1 & 2\\\\-1 & 0 & -2\\end{matrix}\\right]$"
          },
          "metadata": {},
          "execution_count": 103
        }
      ]
    },
    {
      "cell_type": "code",
      "source": [
        "det_A_1 = A_1.det()\n",
        "sol_x = det_A_1 / A.det()\n",
        "sol_x"
      ],
      "metadata": {
        "colab": {
          "base_uri": "https://localhost:8080/",
          "height": 37
        },
        "id": "XEi3FwUtA5uf",
        "outputId": "7d7f0c1c-496a-4574-fdc9-77d733e7650f"
      },
      "execution_count": null,
      "outputs": [
        {
          "output_type": "execute_result",
          "data": {
            "text/plain": [
              "1"
            ],
            "text/latex": "$\\displaystyle 1$"
          },
          "metadata": {},
          "execution_count": 104
        }
      ]
    },
    {
      "cell_type": "code",
      "source": [
        "A_2 = A.copy()\n",
        "A_2[:, 1] = b\n",
        "A_2"
      ],
      "metadata": {
        "colab": {
          "base_uri": "https://localhost:8080/",
          "height": 78
        },
        "id": "yguCIPYMAjpH",
        "outputId": "a56fdd44-770f-4575-c8a5-40aa6e264054"
      },
      "execution_count": null,
      "outputs": [
        {
          "output_type": "execute_result",
          "data": {
            "text/plain": [
              "Matrix([\n",
              "[2,  1, -1],\n",
              "[1,  4,  2],\n",
              "[3, -1, -2]])"
            ],
            "text/latex": "$\\displaystyle \\left[\\begin{matrix}2 & 1 & -1\\\\1 & 4 & 2\\\\3 & -1 & -2\\end{matrix}\\right]$"
          },
          "metadata": {},
          "execution_count": 116
        }
      ]
    },
    {
      "cell_type": "code",
      "source": [
        "det_A_2 = A_2.det()\n",
        "sol_y = det_A_2 / A.det()\n",
        "sol_y"
      ],
      "metadata": {
        "colab": {
          "base_uri": "https://localhost:8080/",
          "height": 37
        },
        "id": "ujTK575UBQck",
        "outputId": "4cecdf1c-3216-410d-c574-6a4bd9a2c865"
      },
      "execution_count": null,
      "outputs": [
        {
          "output_type": "execute_result",
          "data": {
            "text/plain": [
              "1"
            ],
            "text/latex": "$\\displaystyle 1$"
          },
          "metadata": {},
          "execution_count": 117
        }
      ]
    },
    {
      "cell_type": "code",
      "source": [
        "A_3 = A.copy()\n",
        "A_3[:, 2] = b\n",
        "A_3"
      ],
      "metadata": {
        "colab": {
          "base_uri": "https://localhost:8080/",
          "height": 78
        },
        "id": "YRhqJo2VAtqB",
        "outputId": "7e13590b-0a50-4d8e-88fe-a8654193aa67"
      },
      "execution_count": null,
      "outputs": [
        {
          "output_type": "execute_result",
          "data": {
            "text/plain": [
              "Matrix([\n",
              "[2,  1,  1],\n",
              "[1, -1,  4],\n",
              "[3,  0, -1]])"
            ],
            "text/latex": "$\\displaystyle \\left[\\begin{matrix}2 & 1 & 1\\\\1 & -1 & 4\\\\3 & 0 & -1\\end{matrix}\\right]$"
          },
          "metadata": {},
          "execution_count": 118
        }
      ]
    },
    {
      "cell_type": "code",
      "source": [
        "det_A_3 = A_3.det()\n",
        "sol_z = det_A_3 / A.det()\n",
        "sol_z"
      ],
      "metadata": {
        "colab": {
          "base_uri": "https://localhost:8080/",
          "height": 37
        },
        "id": "zX1qXI8RBdfc",
        "outputId": "93851da4-a490-46cf-ccf0-a6987a617fc5"
      },
      "execution_count": null,
      "outputs": [
        {
          "output_type": "execute_result",
          "data": {
            "text/plain": [
              "2"
            ],
            "text/latex": "$\\displaystyle 2$"
          },
          "metadata": {},
          "execution_count": 119
        }
      ]
    },
    {
      "cell_type": "code",
      "source": [
        "sp.solve((eq1, eq2, eq3), (x, y, z))"
      ],
      "metadata": {
        "colab": {
          "base_uri": "https://localhost:8080/"
        },
        "id": "ad6e8TgfBwkL",
        "outputId": "829eb536-1e75-48f8-f7c0-f77f66b66717"
      },
      "execution_count": null,
      "outputs": [
        {
          "output_type": "execute_result",
          "data": {
            "text/plain": [
              "{x: 1, y: 1, z: 2}"
            ]
          },
          "metadata": {},
          "execution_count": 120
        }
      ]
    },
    {
      "cell_type": "code",
      "source": [
        "x, y, z, t = sp.symbols('x y z t')\n",
        "\n",
        "eq1 = sp.Eq(x + y + z - t, 2)\n",
        "eq2 = sp.Eq(x - z + 2*t, 6)\n",
        "eq3 = sp.Eq(2*x - 3*y + t, 4)\n",
        "eq4 = sp.Eq(3*x + y + 3*z - 4*t, -2)\n",
        "\n",
        "A = sp.Matrix([[1,1,1,-1],[1,0,-1,2],[2,-3,0,1],[3,1,3,-4]])\n",
        "b = sp.Matrix([2,6,4,-2])"
      ],
      "metadata": {
        "id": "ukVjoHYqF3Cd"
      },
      "execution_count": 22,
      "outputs": []
    },
    {
      "cell_type": "code",
      "source": [
        "A"
      ],
      "metadata": {
        "colab": {
          "base_uri": "https://localhost:8080/",
          "height": 98
        },
        "id": "vwnW5smrGbtm",
        "outputId": "42fdba28-2c77-421a-d728-6c1436d5fbe9"
      },
      "execution_count": 23,
      "outputs": [
        {
          "output_type": "execute_result",
          "data": {
            "text/plain": [
              "Matrix([\n",
              "[1,  1,  1, -1],\n",
              "[1,  0, -1,  2],\n",
              "[2, -3,  0,  1],\n",
              "[3,  1,  3, -4]])"
            ],
            "text/latex": "$\\displaystyle \\left[\\begin{matrix}1 & 1 & 1 & -1\\\\1 & 0 & -1 & 2\\\\2 & -3 & 0 & 1\\\\3 & 1 & 3 & -4\\end{matrix}\\right]$"
          },
          "metadata": {},
          "execution_count": 23
        }
      ]
    },
    {
      "cell_type": "code",
      "source": [
        "A_1 = A.copy()\n",
        "A_1[:, 0] = b\n",
        "A_1"
      ],
      "metadata": {
        "colab": {
          "base_uri": "https://localhost:8080/",
          "height": 98
        },
        "id": "ATwRPc8fRx_o",
        "outputId": "d99d3745-51cb-4e5f-e334-4cf9f918e4aa"
      },
      "execution_count": 24,
      "outputs": [
        {
          "output_type": "execute_result",
          "data": {
            "text/plain": [
              "Matrix([\n",
              "[ 2,  1,  1, -1],\n",
              "[ 6,  0, -1,  2],\n",
              "[ 4, -3,  0,  1],\n",
              "[-2,  1,  3, -4]])"
            ],
            "text/latex": "$\\displaystyle \\left[\\begin{matrix}2 & 1 & 1 & -1\\\\6 & 0 & -1 & 2\\\\4 & -3 & 0 & 1\\\\-2 & 1 & 3 & -4\\end{matrix}\\right]$"
          },
          "metadata": {},
          "execution_count": 24
        }
      ]
    },
    {
      "cell_type": "code",
      "source": [
        "det_A_1 = A_1.det()\n",
        "sol_x = det_A_1 / A.det()\n",
        "sol_x"
      ],
      "metadata": {
        "colab": {
          "base_uri": "https://localhost:8080/",
          "height": 51
        },
        "id": "ipPmUPrlTV4w",
        "outputId": "90af4360-68b6-426c-d18f-d5754e981314"
      },
      "execution_count": 25,
      "outputs": [
        {
          "output_type": "execute_result",
          "data": {
            "text/plain": [
              "1/2"
            ],
            "text/latex": "$\\displaystyle \\frac{1}{2}$"
          },
          "metadata": {},
          "execution_count": 25
        }
      ]
    },
    {
      "cell_type": "code",
      "source": [
        "A_2 = A.copy()\n",
        "A_2[:, 1] = b\n",
        "A_2"
      ],
      "metadata": {
        "colab": {
          "base_uri": "https://localhost:8080/",
          "height": 98
        },
        "id": "2GM6KmeuToAk",
        "outputId": "62282a5e-b3eb-4240-bb18-a306ef807d92"
      },
      "execution_count": 26,
      "outputs": [
        {
          "output_type": "execute_result",
          "data": {
            "text/plain": [
              "Matrix([\n",
              "[1,  2,  1, -1],\n",
              "[1,  6, -1,  2],\n",
              "[2,  4,  0,  1],\n",
              "[3, -2,  3, -4]])"
            ],
            "text/latex": "$\\displaystyle \\left[\\begin{matrix}1 & 2 & 1 & -1\\\\1 & 6 & -1 & 2\\\\2 & 4 & 0 & 1\\\\3 & -2 & 3 & -4\\end{matrix}\\right]$"
          },
          "metadata": {},
          "execution_count": 26
        }
      ]
    },
    {
      "cell_type": "code",
      "source": [
        "det_A_2 = A_2.det()\n",
        "sol_y = det_A_2 / A.det()\n",
        "sol_y"
      ],
      "metadata": {
        "colab": {
          "base_uri": "https://localhost:8080/",
          "height": 37
        },
        "id": "wlit2pOgTwzb",
        "outputId": "dcdca34c-5901-450c-99d1-89fd49ba72e9"
      },
      "execution_count": 27,
      "outputs": [
        {
          "output_type": "execute_result",
          "data": {
            "text/plain": [
              "1"
            ],
            "text/latex": "$\\displaystyle 1$"
          },
          "metadata": {},
          "execution_count": 27
        }
      ]
    },
    {
      "cell_type": "code",
      "source": [
        "A_3 = A.copy()\n",
        "A_3[:, 2] = b\n",
        "A_3"
      ],
      "metadata": {
        "colab": {
          "base_uri": "https://localhost:8080/",
          "height": 98
        },
        "id": "u3A1mZAVUDqf",
        "outputId": "08f63bf8-1402-4158-ebbd-b0628ba85335"
      },
      "execution_count": 28,
      "outputs": [
        {
          "output_type": "execute_result",
          "data": {
            "text/plain": [
              "Matrix([\n",
              "[1,  1,  2, -1],\n",
              "[1,  0,  6,  2],\n",
              "[2, -3,  4,  1],\n",
              "[3,  1, -2, -4]])"
            ],
            "text/latex": "$\\displaystyle \\left[\\begin{matrix}1 & 1 & 2 & -1\\\\1 & 0 & 6 & 2\\\\2 & -3 & 4 & 1\\\\3 & 1 & -2 & -4\\end{matrix}\\right]$"
          },
          "metadata": {},
          "execution_count": 28
        }
      ]
    },
    {
      "cell_type": "code",
      "source": [
        "det_A_3 = A_3.det()\n",
        "sol_z = det_A_3 / A.det()\n",
        "sol_z"
      ],
      "metadata": {
        "colab": {
          "base_uri": "https://localhost:8080/",
          "height": 51
        },
        "id": "GQybK4IHUOf_",
        "outputId": "098729da-f537-445e-fd13-9a82f8199f4e"
      },
      "execution_count": 29,
      "outputs": [
        {
          "output_type": "execute_result",
          "data": {
            "text/plain": [
              "13/2"
            ],
            "text/latex": "$\\displaystyle \\frac{13}{2}$"
          },
          "metadata": {},
          "execution_count": 29
        }
      ]
    },
    {
      "cell_type": "code",
      "source": [
        "A_4 = A.copy()\n",
        "A_4[:, 3] = b\n",
        "A_4"
      ],
      "metadata": {
        "colab": {
          "base_uri": "https://localhost:8080/",
          "height": 98
        },
        "id": "n7vsD5ahUgCW",
        "outputId": "94f8823c-4060-415d-ce3b-90dfba17dac7"
      },
      "execution_count": 30,
      "outputs": [
        {
          "output_type": "execute_result",
          "data": {
            "text/plain": [
              "Matrix([\n",
              "[1,  1,  1,  2],\n",
              "[1,  0, -1,  6],\n",
              "[2, -3,  0,  4],\n",
              "[3,  1,  3, -2]])"
            ],
            "text/latex": "$\\displaystyle \\left[\\begin{matrix}1 & 1 & 1 & 2\\\\1 & 0 & -1 & 6\\\\2 & -3 & 0 & 4\\\\3 & 1 & 3 & -2\\end{matrix}\\right]$"
          },
          "metadata": {},
          "execution_count": 30
        }
      ]
    },
    {
      "cell_type": "code",
      "source": [
        "det_A_4 = A_4.det()\n",
        "sol_t = det_A_4 / A.det()\n",
        "sol_t"
      ],
      "metadata": {
        "colab": {
          "base_uri": "https://localhost:8080/",
          "height": 37
        },
        "id": "mIQbByfYUrW_",
        "outputId": "cf078207-2a76-45e2-f0af-63d1e1cd3349"
      },
      "execution_count": 31,
      "outputs": [
        {
          "output_type": "execute_result",
          "data": {
            "text/plain": [
              "6"
            ],
            "text/latex": "$\\displaystyle 6$"
          },
          "metadata": {},
          "execution_count": 31
        }
      ]
    },
    {
      "cell_type": "code",
      "source": [
        "sp.solve((eq1, eq2, eq3, eq4), (x, y, z, t))"
      ],
      "metadata": {
        "colab": {
          "base_uri": "https://localhost:8080/"
        },
        "id": "WA9oVMwNVCkt",
        "outputId": "8b3d9fa0-95a8-49bb-bd48-245bafc5be9c"
      },
      "execution_count": 21,
      "outputs": [
        {
          "output_type": "execute_result",
          "data": {
            "text/plain": [
              "{t: 6, x: 1/2, y: 1, z: 13/2}"
            ]
          },
          "metadata": {},
          "execution_count": 21
        }
      ]
    },
    {
      "cell_type": "code",
      "source": [
        "eq1 = sp.Eq(x + 2*y + 3*z, 3)\n",
        "eq2 = sp.Eq(4*x + 5*y + 6*z, 2)\n",
        "eq3 = sp.Eq(7*x + 8*y + 9*z, 1)\n",
        "\n",
        "A = sp.Matrix([[1,2,3],[4,5,6],[7,8,9]])\n",
        "b = sp.Matrix([3,2,1])"
      ],
      "metadata": {
        "id": "yq_WSFGrQRzm"
      },
      "execution_count": 37,
      "outputs": []
    },
    {
      "cell_type": "code",
      "source": [
        "A_1 = A.copy()\n",
        "A_1[:, 0] = b\n",
        "A_1"
      ],
      "metadata": {
        "colab": {
          "base_uri": "https://localhost:8080/",
          "height": 78
        },
        "id": "La8ET8GRW5GH",
        "outputId": "2a490d66-2719-4d12-c492-2af3e9bef007"
      },
      "execution_count": 34,
      "outputs": [
        {
          "output_type": "execute_result",
          "data": {
            "text/plain": [
              "Matrix([\n",
              "[3, 2, 3],\n",
              "[2, 5, 6],\n",
              "[1, 8, 9]])"
            ],
            "text/latex": "$\\displaystyle \\left[\\begin{matrix}3 & 2 & 3\\\\2 & 5 & 6\\\\1 & 8 & 9\\end{matrix}\\right]$"
          },
          "metadata": {},
          "execution_count": 34
        }
      ]
    },
    {
      "cell_type": "code",
      "source": [
        "det_A_1 = A_4.det()\n",
        "sol_x = det_A_1 / A.det()\n",
        "sol_x"
      ],
      "metadata": {
        "colab": {
          "base_uri": "https://localhost:8080/",
          "height": 37
        },
        "id": "Idiz7p9RX7w4",
        "outputId": "fa0b8230-60d4-4b58-a480-fd9f2f8e134c"
      },
      "execution_count": 45,
      "outputs": [
        {
          "output_type": "execute_result",
          "data": {
            "text/plain": [
              "zoo"
            ],
            "text/latex": "$\\displaystyle \\tilde{\\infty}$"
          },
          "metadata": {},
          "execution_count": 45
        }
      ]
    },
    {
      "cell_type": "code",
      "source": [
        "A_2 = A.copy()\n",
        "A_2[:, 1] = b\n",
        "A_2"
      ],
      "metadata": {
        "colab": {
          "base_uri": "https://localhost:8080/",
          "height": 78
        },
        "id": "aBmf8wuXXxsc",
        "outputId": "745c8f9b-3e3d-4e0d-e426-0ac1d400610c"
      },
      "execution_count": 44,
      "outputs": [
        {
          "output_type": "execute_result",
          "data": {
            "text/plain": [
              "Matrix([\n",
              "[1, 3, 3],\n",
              "[4, 2, 6],\n",
              "[7, 1, 9]])"
            ],
            "text/latex": "$\\displaystyle \\left[\\begin{matrix}1 & 3 & 3\\\\4 & 2 & 6\\\\7 & 1 & 9\\end{matrix}\\right]$"
          },
          "metadata": {},
          "execution_count": 44
        }
      ]
    },
    {
      "cell_type": "code",
      "source": [
        "det_A_2 = A_2.det()\n",
        "sol_y = det_A_2 / A.det()\n",
        "sol_y"
      ],
      "metadata": {
        "colab": {
          "base_uri": "https://localhost:8080/",
          "height": 37
        },
        "id": "aZIxOOBDZOJg",
        "outputId": "c34695b9-27ef-4820-a3a0-a5d56675b505"
      },
      "execution_count": 43,
      "outputs": [
        {
          "output_type": "execute_result",
          "data": {
            "text/plain": [
              "nan"
            ],
            "text/latex": "$\\displaystyle \\text{NaN}$"
          },
          "metadata": {},
          "execution_count": 43
        }
      ]
    },
    {
      "cell_type": "code",
      "source": [
        "A_3 = A.copy()\n",
        "A_3[:, 2] = b\n",
        "A_3"
      ],
      "metadata": {
        "colab": {
          "base_uri": "https://localhost:8080/",
          "height": 78
        },
        "id": "4m67LLDdXz_f",
        "outputId": "c127e04e-9f04-4259-b638-62d05151fcd7"
      },
      "execution_count": 40,
      "outputs": [
        {
          "output_type": "execute_result",
          "data": {
            "text/plain": [
              "Matrix([\n",
              "[1, 2, 3],\n",
              "[4, 5, 2],\n",
              "[7, 8, 1]])"
            ],
            "text/latex": "$\\displaystyle \\left[\\begin{matrix}1 & 2 & 3\\\\4 & 5 & 2\\\\7 & 8 & 1\\end{matrix}\\right]$"
          },
          "metadata": {},
          "execution_count": 40
        }
      ]
    },
    {
      "cell_type": "code",
      "source": [
        "det_A_3 = A_3.det()\n",
        "sol_z = det_A_3 / A.det()\n",
        "sol_z"
      ],
      "metadata": {
        "colab": {
          "base_uri": "https://localhost:8080/",
          "height": 37
        },
        "id": "BPiyj7iMZOnq",
        "outputId": "62f8f0ae-afc6-449a-889a-69ee12d4ed9b"
      },
      "execution_count": 42,
      "outputs": [
        {
          "output_type": "execute_result",
          "data": {
            "text/plain": [
              "nan"
            ],
            "text/latex": "$\\displaystyle \\text{NaN}$"
          },
          "metadata": {},
          "execution_count": 42
        }
      ]
    },
    {
      "cell_type": "code",
      "source": [
        "sp.solve((eq1, eq2, eq3), (x, y, z))"
      ],
      "metadata": {
        "colab": {
          "base_uri": "https://localhost:8080/"
        },
        "id": "56iC2uJSYzfv",
        "outputId": "46621e6c-acf7-4a01-aeab-471ada052499"
      },
      "execution_count": 41,
      "outputs": [
        {
          "output_type": "execute_result",
          "data": {
            "text/plain": [
              "{x: z - 11/3, y: 10/3 - 2*z}"
            ]
          },
          "metadata": {},
          "execution_count": 41
        }
      ]
    }
  ],
  "metadata": {
    "kernelspec": {
      "display_name": ".venv",
      "language": "python",
      "name": "python3"
    },
    "language_info": {
      "codemirror_mode": {
        "name": "ipython",
        "version": 3
      },
      "file_extension": ".py",
      "mimetype": "text/x-python",
      "name": "python",
      "nbconvert_exporter": "python",
      "pygments_lexer": "ipython3",
      "version": "3.11.9"
    },
    "colab": {
      "provenance": [],
      "include_colab_link": true
    }
  },
  "nbformat": 4,
  "nbformat_minor": 0
}