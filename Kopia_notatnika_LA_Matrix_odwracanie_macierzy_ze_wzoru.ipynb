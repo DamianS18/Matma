{
  "cells": [
    {
      "cell_type": "markdown",
      "metadata": {
        "id": "view-in-github",
        "colab_type": "text"
      },
      "source": [
        "<a href=\"https://colab.research.google.com/github/DamianS18/Matma/blob/main/Kopia_notatnika_LA_Matrix_odwracanie_macierzy_ze_wzoru.ipynb\" target=\"_parent\"><img src=\"https://colab.research.google.com/assets/colab-badge.svg\" alt=\"Open In Colab\"/></a>"
      ]
    },
    {
      "cell_type": "markdown",
      "metadata": {
        "id": "d95B2aEyitqZ"
      },
      "source": [
        "# Odwracanie macierzy\n",
        "\n",
        "Macierz odwrotna do macierzy $A$ to taka macierz $A^{-1}$, że $A \\cdot A^{-1} = A^{-1} \\cdot A = I$, gdzie $I$ to macierz jednostkowa."
      ]
    },
    {
      "cell_type": "markdown",
      "metadata": {
        "id": "v_lNYRiLitqa"
      },
      "source": [
        "**Przykład 1:**"
      ]
    },
    {
      "cell_type": "code",
      "execution_count": null,
      "metadata": {
        "id": "JQMYXjIBitqb",
        "outputId": "ac85e502-ac64-45a7-dd81-8fef129b76e8",
        "colab": {
          "base_uri": "https://localhost:8080/",
          "height": 78
        }
      },
      "outputs": [
        {
          "output_type": "execute_result",
          "data": {
            "text/plain": [
              "Matrix([\n",
              "[2, 1, 2],\n",
              "[5, 3, 1],\n",
              "[1, 1, 5]])"
            ],
            "text/latex": "$\\displaystyle \\left[\\begin{matrix}2 & 1 & 2\\\\5 & 3 & 1\\\\1 & 1 & 5\\end{matrix}\\right]$"
          },
          "metadata": {},
          "execution_count": 1
        }
      ],
      "source": [
        "import sympy as sp #import sympy library\n",
        "k1=sp.Matrix([[2, 1, 2], [5, 3, 1],[1, 1, 5]]) #stwórz macierz k1\n",
        "k1"
      ]
    },
    {
      "cell_type": "code",
      "execution_count": null,
      "metadata": {
        "id": "x6U6QewDitqc",
        "outputId": "315b9497-4095-4b52-eedf-437200d457fc",
        "colab": {
          "base_uri": "https://localhost:8080/",
          "height": 78
        }
      },
      "outputs": [
        {
          "output_type": "execute_result",
          "data": {
            "text/plain": [
              "Matrix([\n",
              "[7/4, -3/8, -5/8],\n",
              "[ -3,    1,    1],\n",
              "[1/4, -1/8,  1/8]])"
            ],
            "text/latex": "$\\displaystyle \\left[\\begin{matrix}\\frac{7}{4} & - \\frac{3}{8} & - \\frac{5}{8}\\\\-3 & 1 & 1\\\\\\frac{1}{4} & - \\frac{1}{8} & \\frac{1}{8}\\end{matrix}\\right]$"
          },
          "metadata": {},
          "execution_count": 2
        }
      ],
      "source": [
        "inverse_k1 = k1.inv() #oblicz odwrotność macierzy k1\n",
        "inverse_k1"
      ]
    },
    {
      "cell_type": "code",
      "execution_count": null,
      "metadata": {
        "id": "Ib6M_g33itqd",
        "outputId": "92a6afa4-5268-4f72-b29e-3b9576216201",
        "colab": {
          "base_uri": "https://localhost:8080/",
          "height": 78
        }
      },
      "outputs": [
        {
          "output_type": "execute_result",
          "data": {
            "text/plain": [
              "Matrix([\n",
              "[1, 0, 0],\n",
              "[0, 1, 0],\n",
              "[0, 0, 1]])"
            ],
            "text/latex": "$\\displaystyle \\left[\\begin{matrix}1 & 0 & 0\\\\0 & 1 & 0\\\\0 & 0 & 1\\end{matrix}\\right]$"
          },
          "metadata": {},
          "execution_count": 3
        }
      ],
      "source": [
        "k1*inverse_k1 # sprawdzamy czy mnożenie macierzy przez jej odwrotność daje macierz jednostkową"
      ]
    },
    {
      "cell_type": "markdown",
      "metadata": {
        "id": "pnLC3qzzitqe"
      },
      "source": [
        "**Przykład 2:**"
      ]
    },
    {
      "cell_type": "code",
      "execution_count": null,
      "metadata": {
        "id": "IwEQlu8Bitqe",
        "outputId": "8c870b8b-153e-4eb1-81c3-02a06f066b41",
        "colab": {
          "base_uri": "https://localhost:8080/",
          "height": 89
        }
      },
      "outputs": [
        {
          "output_type": "execute_result",
          "data": {
            "text/plain": [
              "Matrix([\n",
              "[ (e*i - f*h)/(a*e*i - a*f*h - b*d*i + b*f*g + c*d*h - c*e*g), (-b*i + c*h)/(a*e*i - a*f*h - b*d*i + b*f*g + c*d*h - c*e*g),  (b*f - c*e)/(a*e*i - a*f*h - b*d*i + b*f*g + c*d*h - c*e*g)],\n",
              "[(-d*i + f*g)/(a*e*i - a*f*h - b*d*i + b*f*g + c*d*h - c*e*g),  (a*i - c*g)/(a*e*i - a*f*h - b*d*i + b*f*g + c*d*h - c*e*g), (-a*f + c*d)/(a*e*i - a*f*h - b*d*i + b*f*g + c*d*h - c*e*g)],\n",
              "[ (d*h - e*g)/(a*e*i - a*f*h - b*d*i + b*f*g + c*d*h - c*e*g), (-a*h + b*g)/(a*e*i - a*f*h - b*d*i + b*f*g + c*d*h - c*e*g),  (a*e - b*d)/(a*e*i - a*f*h - b*d*i + b*f*g + c*d*h - c*e*g)]])"
            ],
            "text/latex": "$\\displaystyle \\left[\\begin{matrix}\\frac{e i - f h}{a e i - a f h - b d i + b f g + c d h - c e g} & \\frac{- b i + c h}{a e i - a f h - b d i + b f g + c d h - c e g} & \\frac{b f - c e}{a e i - a f h - b d i + b f g + c d h - c e g}\\\\\\frac{- d i + f g}{a e i - a f h - b d i + b f g + c d h - c e g} & \\frac{a i - c g}{a e i - a f h - b d i + b f g + c d h - c e g} & \\frac{- a f + c d}{a e i - a f h - b d i + b f g + c d h - c e g}\\\\\\frac{d h - e g}{a e i - a f h - b d i + b f g + c d h - c e g} & \\frac{- a h + b g}{a e i - a f h - b d i + b f g + c d h - c e g} & \\frac{a e - b d}{a e i - a f h - b d i + b f g + c d h - c e g}\\end{matrix}\\right]$"
          },
          "metadata": {},
          "execution_count": 9
        }
      ],
      "source": [
        "import sympy as sp\n",
        "a,b,c,d,e,f,g,h,i = sp.symbols('a b c d e f g h i') #definiujemy zmienne a-i\n",
        "k=sp.Matrix([[a, b, c], [d, e, f], [g, h, i]]) #tworzymy macierz k\n",
        "inverse_k = k.inv()\n",
        "inverse_k"
      ]
    },
    {
      "cell_type": "markdown",
      "metadata": {
        "id": "30MbY4-Oitqf"
      },
      "source": [
        "Ta skomplikowana postać wynika ze wzoru, który pozwala na obliczenie elementów macierzy odwrotnej. Zanim do niego przejdziemy, zdefiniujmy kilka pojęć."
      ]
    },
    {
      "cell_type": "markdown",
      "metadata": {
        "id": "uHBS_kdRitqf"
      },
      "source": [
        "**Transpozycja macierzy** jest operacją, która zamienia wiersze na kolumny. Transponowana macierz do macierzy $A$ to taka macierz $A^T$, że $A^T_{ij} = A_{ji}$."
      ]
    },
    {
      "cell_type": "code",
      "execution_count": null,
      "metadata": {
        "id": "d6NEy4E4itqg",
        "outputId": "8d8d451b-1766-481a-ea95-415484bbe1e6",
        "colab": {
          "base_uri": "https://localhost:8080/",
          "height": 78
        }
      },
      "outputs": [
        {
          "output_type": "execute_result",
          "data": {
            "text/plain": [
              "Matrix([\n",
              "[a, b, c],\n",
              "[d, e, f],\n",
              "[g, h, i]])"
            ],
            "text/latex": "$\\displaystyle \\left[\\begin{matrix}a & b & c\\\\d & e & f\\\\g & h & i\\end{matrix}\\right]$"
          },
          "metadata": {},
          "execution_count": 10
        }
      ],
      "source": [
        "k"
      ]
    },
    {
      "cell_type": "code",
      "execution_count": null,
      "metadata": {
        "id": "i3lFq-8Yitqh",
        "outputId": "f8f07f6f-07f3-4f6a-c333-0738e7d59fe5",
        "colab": {
          "base_uri": "https://localhost:8080/",
          "height": 78
        }
      },
      "outputs": [
        {
          "output_type": "execute_result",
          "data": {
            "text/plain": [
              "Matrix([\n",
              "[a, d, g],\n",
              "[b, e, h],\n",
              "[c, f, i]])"
            ],
            "text/latex": "$\\displaystyle \\left[\\begin{matrix}a & d & g\\\\b & e & h\\\\c & f & i\\end{matrix}\\right]$"
          },
          "metadata": {},
          "execution_count": 11
        }
      ],
      "source": [
        "k.transpose() #transponujemy macierz k"
      ]
    },
    {
      "cell_type": "markdown",
      "metadata": {
        "id": "pZm9tq_qitqh"
      },
      "source": [
        "**Podwyznacznik** (minor) macierzy $A$ to wyznacznik macierzy, z której usunięto $i$-ty wiersz i $j$-tą kolumnę. Oznaczmy go $M_{ij}$."
      ]
    },
    {
      "cell_type": "code",
      "execution_count": null,
      "metadata": {
        "id": "PuTkltTXitqh",
        "outputId": "469d1444-a416-40a9-9267-3f22014d37f7",
        "colab": {
          "base_uri": "https://localhost:8080/",
          "height": 78
        }
      },
      "outputs": [
        {
          "output_type": "execute_result",
          "data": {
            "text/plain": [
              "Matrix([\n",
              "[1, 2, 3],\n",
              "[4, 5, 6],\n",
              "[7, 8, 9]])"
            ],
            "text/latex": "$\\displaystyle \\left[\\begin{matrix}1 & 2 & 3\\\\4 & 5 & 6\\\\7 & 8 & 9\\end{matrix}\\right]$"
          },
          "metadata": {},
          "execution_count": 15
        }
      ],
      "source": [
        "# Podwyznacznik (minor) macierzy $A$ to wyznacznik macierzy, z której usunięto $i$-ty wiersz i $j$-tą kolumnę. Oznaczmy go $M_{ij}$.\n",
        "k2=sp.Matrix([[1, 2, 3], [4, 5, 6], [7, 8, 9]])\n",
        "k2"
      ]
    },
    {
      "cell_type": "code",
      "execution_count": null,
      "metadata": {
        "id": "AFeWCbZMitqi",
        "outputId": "5f57460c-9087-43a6-93ee-5d8487e5993b",
        "colab": {
          "base_uri": "https://localhost:8080/",
          "height": 58
        }
      },
      "outputs": [
        {
          "output_type": "execute_result",
          "data": {
            "text/plain": [
              "Matrix([\n",
              "[4, 6],\n",
              "[7, 9]])"
            ],
            "text/latex": "$\\displaystyle \\left[\\begin{matrix}4 & 6\\\\7 & 9\\end{matrix}\\right]$"
          },
          "metadata": {},
          "execution_count": 16
        }
      ],
      "source": [
        "M01 = k2.minor_submatrix(0, 1) #obliczamy minor M01\n",
        "M01"
      ]
    },
    {
      "cell_type": "code",
      "execution_count": null,
      "metadata": {
        "id": "N2UILoj0itqi",
        "outputId": "9a1ddd54-3d58-44e2-f865-15ed34645e41",
        "colab": {
          "base_uri": "https://localhost:8080/",
          "height": 58
        }
      },
      "outputs": [
        {
          "output_type": "execute_result",
          "data": {
            "text/plain": [
              "Matrix([\n",
              "[1, 2],\n",
              "[4, 5]])"
            ],
            "text/latex": "$\\displaystyle \\left[\\begin{matrix}1 & 2\\\\4 & 5\\end{matrix}\\right]$"
          },
          "metadata": {},
          "execution_count": 17
        }
      ],
      "source": [
        "M22 = k2.minor_submatrix(2, 2)  #obliczamy minor M22\n",
        "M22"
      ]
    },
    {
      "cell_type": "markdown",
      "metadata": {
        "id": "pffj3r06itqi"
      },
      "source": [
        "**Dopełnienie algebraiczne** elementu $a_{ij}= (-1)^{i+j} \\, M_{ij}$, czyli podwyznacznik pomnożony przez $(-1)^{i+j}$."
      ]
    },
    {
      "cell_type": "markdown",
      "metadata": {
        "id": "W-V97Nwxitqi"
      },
      "source": [
        "**Rząd macierzy** to stopień największego, niezerowego minora tej macierzy. Rząd macierzy równy jest ilości liniowo niezależnych wierszy lub kolumn w macierzy."
      ]
    },
    {
      "cell_type": "code",
      "execution_count": null,
      "metadata": {
        "id": "3N0qjrowitqi",
        "outputId": "b1428c17-d4fb-4f16-dab2-bf43aa29634b",
        "colab": {
          "base_uri": "https://localhost:8080/"
        }
      },
      "outputs": [
        {
          "output_type": "execute_result",
          "data": {
            "text/plain": [
              "2"
            ]
          },
          "metadata": {},
          "execution_count": 18
        }
      ],
      "source": [
        "k2.rank()   #obliczamy rząd macierzy k2"
      ]
    },
    {
      "cell_type": "markdown",
      "metadata": {
        "id": "cjCMMzlDitqj"
      },
      "source": [
        "### Macierz odwrotna 3x3\n",
        "\n",
        "Wykorzystanie transpozycji macierzy dopełnień algebraicznych (minorów):\n",
        "\n",
        "$$K^{-1} =\n",
        "\\begin{bmatrix}\n",
        "a & b & c \\\\\n",
        "d & e & f \\\\\n",
        "g & h & i\n",
        "\\end{bmatrix}^{-1}\n",
        "= \\frac{1}{\\det(\\mathbf{K})}\n",
        "\\begin{bmatrix}\n",
        "A & B & C \\\\\n",
        "D & E & F \\\\\n",
        "G & H & I\n",
        "\\end{bmatrix}^T\n",
        "= \\frac{1}{\\det(\\mathbf{A})}\n",
        "\\begin{bmatrix}\n",
        "A & D & G \\\\\n",
        "B & E & H \\\\\n",
        "C & F & I\n",
        "\\end{bmatrix}\n",
        "$$\n",
        "\n",
        "Jeśli wyznacznik jest różny od zera, macierz jest odwracalna, a elementy macierzy pośredniej po prawej stronie powyższego wzoru są określone przez:\n",
        "\n",
        "$$\n",
        "\\begin{aligned}\n",
        "A &= det ( \\begin{bmatrix} e & f \\\\ h & i \\end{bmatrix} ) & B &= - det ( \\begin{bmatrix} d & f \\\\ g & i \\end{bmatrix} ) & C &= det ( \\begin{bmatrix} d & e \\\\ g & h \\end{bmatrix} ) \\\\\n",
        "D &= - det ( \\begin{bmatrix} b & c \\\\ h & i \\end{bmatrix} ) & E &= det ( \\begin{bmatrix} a & c \\\\ g & i \\end{bmatrix} ) & F &= - det ( \\begin{bmatrix} a & b \\\\ g & h \\end{bmatrix} ) \\\\\n",
        "G &= det ( \\begin{bmatrix} b & c \\\\ e & f \\end{bmatrix} ) & H &= - det ( \\begin{bmatrix} a & c \\\\ d & f \\end{bmatrix} ) & I &= det ( \\begin{bmatrix} a & b \\\\ d & e \\end{bmatrix} )\n",
        "\\end{aligned}\n",
        "$$\n",
        "czyli przez wyznaczniki macierzy 2x2, które powstają przez usunięcie odpowiednich wierszy i kolumn oraz przez uwzględnienie znaku $(-1)^{i+j}$."
      ]
    },
    {
      "cell_type": "markdown",
      "metadata": {
        "id": "fjvhDJlxitqj"
      },
      "source": [
        "### Macierz odwrotna 2x2\n",
        "\n",
        "Analogicznie, dla macierzy 2x2, można obliczyć macierz odwrotną przy użyciu macierzy dopełnień algebraicznych:\n",
        "\n",
        "$$\n",
        "\\mathbf{L}^{-1} =\n",
        "\\begin{bmatrix}\n",
        "a & b \\\\\n",
        "c & d\n",
        "\\end{bmatrix}^{-1}\n",
        "= \\frac{1}{\\det(\\mathbf{L})}\n",
        "\\begin{bmatrix}\n",
        "D & C \\\\\n",
        "B & A\n",
        "\\end{bmatrix}^T\n",
        "= \\frac{1}{\\det(\\mathbf{L})}\n",
        "\\begin{bmatrix}\n",
        "D & B \\\\\n",
        "C & A\n",
        "\\end{bmatrix}\n",
        "$$\n",
        "\n",
        "gdzie $\\det(\\mathbf{L}) = ad - bc$\n",
        "\n",
        "Jeśli wyznacznik jest różny od zera to macierz jest odwracalna, a elementy macierzy pośredniej są określone jako:\n",
        "\n",
        "$$\n",
        "\\begin{aligned}\n",
        "A &= \\det \\begin{bmatrix} d \\end{bmatrix} = d, & B &= -\\det \\begin{bmatrix} b \\end{bmatrix} = -b, & C &= -\\det \\begin{bmatrix} c \\end{bmatrix} = -c, &\n",
        "D &= \\det \\begin{bmatrix} a \\end{bmatrix} = a.\n",
        "\\end{aligned}\n",
        "$$\n",
        "\n",
        "Elementy te powstają przez obliczenie wyznaczników macierzy 1x1, które powstają przez usunięcie odpowiednich wierszy i kolumn z oryginalnej macierzy 2x2 oraz przez zastosowanie odpowiednich znaków $(-1)^{i+j}$."
      ]
    },
    {
      "cell_type": "markdown",
      "metadata": {
        "id": "eCd76vz9itqj"
      },
      "source": [
        "---\n",
        "## Zadania dla  studentów"
      ]
    },
    {
      "cell_type": "markdown",
      "metadata": {
        "id": "385dnajXitqj"
      },
      "source": [
        "1. Wylicz ze wzoru macierz odwrotną do macierzy\n",
        "\n",
        "$$\n",
        "\\begin{bmatrix}\n",
        "2 & 0 & 1 \\\\\n",
        "0 & 1 & 0 \\\\\n",
        "1 & 2 & 0\n",
        "\\end{bmatrix}\n",
        "$$\n",
        "\n",
        "i sprawdź, czy wynik jest poprawny.\n",
        "\n",
        "2. Posługując się komendą `det()` ustal rząd macierzy poniżej\n",
        "$$\n",
        "A =\n",
        "\\begin{bmatrix}\n",
        "4 & -3 & 7 \\\\\n",
        "-1 & 6 & 3 \\\\\n",
        "2 & 9 & 1\n",
        "\\end{bmatrix}\n",
        "$$"
      ]
    },
    {
      "cell_type": "markdown",
      "metadata": {
        "id": "4xwhEzhLitqj"
      },
      "source": []
    },
    {
      "cell_type": "code",
      "source": [
        "A = sp.Matrix([[2,0,1],[0,1,0],[1,2,0]]) #tworzymy macierz\n",
        "A"
      ],
      "metadata": {
        "id": "Djs4d3GejH_X",
        "outputId": "dac55553-32e0-4283-d211-fb2593d99e42",
        "colab": {
          "base_uri": "https://localhost:8080/",
          "height": 78
        }
      },
      "execution_count": null,
      "outputs": [
        {
          "output_type": "execute_result",
          "data": {
            "text/plain": [
              "Matrix([\n",
              "[2, 0, 1],\n",
              "[0, 1, 0],\n",
              "[1, 2, 0]])"
            ],
            "text/latex": "$\\displaystyle \\left[\\begin{matrix}2 & 0 & 1\\\\0 & 1 & 0\\\\1 & 2 & 0\\end{matrix}\\right]$"
          },
          "metadata": {},
          "execution_count": 6
        }
      ]
    },
    {
      "cell_type": "code",
      "source": [
        "inverse_A = A.inv() #odwracamy macierz\n",
        "inverse_A"
      ],
      "metadata": {
        "id": "r5z8-4j2jkRS",
        "outputId": "f25400ca-f5f3-4a8b-c2f0-4b58c5d50c34",
        "colab": {
          "base_uri": "https://localhost:8080/",
          "height": 78
        }
      },
      "execution_count": null,
      "outputs": [
        {
          "output_type": "execute_result",
          "data": {
            "text/plain": [
              "Matrix([\n",
              "[0, -2,  1],\n",
              "[0,  1,  0],\n",
              "[1,  4, -2]])"
            ],
            "text/latex": "$\\displaystyle \\left[\\begin{matrix}0 & -2 & 1\\\\0 & 1 & 0\\\\1 & 4 & -2\\end{matrix}\\right]$"
          },
          "metadata": {},
          "execution_count": 7
        }
      ]
    },
    {
      "cell_type": "code",
      "source": [
        "inverse_A*A #sprawdzamy czy mnożenie macierzy przez jej odwrotność daje macierz jednostkową"
      ],
      "metadata": {
        "id": "okE68oOAjrSS",
        "outputId": "0183a878-4284-46e2-83b2-6f93f0c978e9",
        "colab": {
          "base_uri": "https://localhost:8080/",
          "height": 78
        }
      },
      "execution_count": null,
      "outputs": [
        {
          "output_type": "execute_result",
          "data": {
            "text/plain": [
              "Matrix([\n",
              "[1, 0, 0],\n",
              "[0, 1, 0],\n",
              "[0, 0, 1]])"
            ],
            "text/latex": "$\\displaystyle \\left[\\begin{matrix}1 & 0 & 0\\\\0 & 1 & 0\\\\0 & 0 & 1\\end{matrix}\\right]$"
          },
          "metadata": {},
          "execution_count": 8
        }
      ]
    },
    {
      "cell_type": "code",
      "source": [
        "a,b,c,d,e,f,g,h,i = sp.symbols('a b c d e f g h i') #definiujemy zmienne a-i\n",
        "A=sp.Matrix([[2, 0, 1], [0, 1, 0], [1, 2, 0]]) #tworzymy macierz A\n",
        "inverse_A = k.inv()\n",
        "inverse_A"
      ],
      "metadata": {
        "id": "_DohiVqcj_Vu",
        "outputId": "b6672087-a1ce-408e-865f-8947e45a08f1",
        "colab": {
          "base_uri": "https://localhost:8080/",
          "height": 78
        }
      },
      "execution_count": null,
      "outputs": [
        {
          "output_type": "execute_result",
          "data": {
            "text/plain": [
              "Matrix([\n",
              "[0, -2,  1],\n",
              "[0,  1,  0],\n",
              "[1,  4, -2]])"
            ],
            "text/latex": "$\\displaystyle \\left[\\begin{matrix}0 & -2 & 1\\\\0 & 1 & 0\\\\1 & 4 & -2\\end{matrix}\\right]$"
          },
          "metadata": {},
          "execution_count": 14
        }
      ]
    },
    {
      "cell_type": "code",
      "source": [
        "A #wyświetlamy macierz A"
      ],
      "metadata": {
        "id": "ZOLuoDlvsMZC",
        "outputId": "e487eedb-0dd1-4632-f598-8f811827fab5",
        "colab": {
          "base_uri": "https://localhost:8080/",
          "height": 78
        }
      },
      "execution_count": null,
      "outputs": [
        {
          "output_type": "execute_result",
          "data": {
            "text/plain": [
              "Matrix([\n",
              "[2, 0, 1],\n",
              "[0, 1, 0],\n",
              "[1, 2, 0]])"
            ],
            "text/latex": "$\\displaystyle \\left[\\begin{matrix}2 & 0 & 1\\\\0 & 1 & 0\\\\1 & 2 & 0\\end{matrix}\\right]$"
          },
          "metadata": {},
          "execution_count": 19
        }
      ]
    },
    {
      "cell_type": "code",
      "source": [
        "A.transpose() #transponujemy macierz A (Transpozycja macierzy to operacja, która zamienia wiersze macierzy na kolumny i kolumny na wiersze)"
      ],
      "metadata": {
        "id": "7wxV_yiEsU9N",
        "outputId": "2c397b97-1722-41a5-b976-63bb479ce945",
        "colab": {
          "base_uri": "https://localhost:8080/",
          "height": 78
        }
      },
      "execution_count": null,
      "outputs": [
        {
          "output_type": "execute_result",
          "data": {
            "text/plain": [
              "Matrix([\n",
              "[2, 0, 1],\n",
              "[0, 1, 2],\n",
              "[1, 0, 0]])"
            ],
            "text/latex": "$\\displaystyle \\left[\\begin{matrix}2 & 0 & 1\\\\0 & 1 & 2\\\\1 & 0 & 0\\end{matrix}\\right]$"
          },
          "metadata": {},
          "execution_count": 20
        }
      ]
    },
    {
      "cell_type": "code",
      "source": [
        "A = sp.Matrix([[2, 0, 1], [0, 1, 0], [1, 2, 0]])\n",
        "A"
      ],
      "metadata": {
        "id": "0VjgHSpZs0aH",
        "outputId": "b7b3fa64-7513-47e5-e7e8-91dd6815f0de",
        "colab": {
          "base_uri": "https://localhost:8080/",
          "height": 78
        }
      },
      "execution_count": null,
      "outputs": [
        {
          "output_type": "execute_result",
          "data": {
            "text/plain": [
              "Matrix([\n",
              "[2, 0, 1],\n",
              "[0, 1, 0],\n",
              "[1, 2, 0]])"
            ],
            "text/latex": "$\\displaystyle \\left[\\begin{matrix}2 & 0 & 1\\\\0 & 1 & 0\\\\1 & 2 & 0\\end{matrix}\\right]$"
          },
          "metadata": {},
          "execution_count": 21
        }
      ]
    },
    {
      "cell_type": "code",
      "source": [
        "M11 = A.minor_submatrix(1, 1) #obliczamy minor M11 (Podwyznacznik lub minor macierzy to wyznacznik uzyskany z oryginalnej macierzy przez usunięcie jednego wiersza i jednej kolumny)\n",
        "M11"
      ],
      "metadata": {
        "id": "ICbNIAH1wgOY",
        "outputId": "2a870766-c58d-4ddd-c480-27b994fb07be",
        "colab": {
          "base_uri": "https://localhost:8080/",
          "height": 58
        }
      },
      "execution_count": null,
      "outputs": [
        {
          "output_type": "execute_result",
          "data": {
            "text/plain": [
              "Matrix([\n",
              "[2, 1],\n",
              "[1, 0]])"
            ],
            "text/latex": "$\\displaystyle \\left[\\begin{matrix}2 & 1\\\\1 & 0\\end{matrix}\\right]$"
          },
          "metadata": {},
          "execution_count": 26
        }
      ]
    },
    {
      "cell_type": "code",
      "source": [
        "M22 = A.minor_submatrix(2, 2) #obliczamy minor M22\n",
        "M22"
      ],
      "metadata": {
        "id": "fX5BNKBMwza6",
        "outputId": "73b97971-9ffa-492c-d511-c1c4ea23e43c",
        "colab": {
          "base_uri": "https://localhost:8080/",
          "height": 58
        }
      },
      "execution_count": null,
      "outputs": [
        {
          "output_type": "execute_result",
          "data": {
            "text/plain": [
              "Matrix([\n",
              "[2, 0],\n",
              "[0, 1]])"
            ],
            "text/latex": "$\\displaystyle \\left[\\begin{matrix}2 & 0\\\\0 & 1\\end{matrix}\\right]$"
          },
          "metadata": {},
          "execution_count": 28
        }
      ]
    },
    {
      "cell_type": "code",
      "source": [
        "A = sp.Matrix([[4,-3,7],[-1,6,3],[2,9,1]]) #tworzymy macierz A\n",
        "A"
      ],
      "metadata": {
        "id": "SXwrl83hxDHI",
        "outputId": "d2a9bd4d-44ce-465f-e2f4-196ac1aa1c9c",
        "colab": {
          "base_uri": "https://localhost:8080/",
          "height": 78
        }
      },
      "execution_count": null,
      "outputs": [
        {
          "output_type": "execute_result",
          "data": {
            "text/plain": [
              "Matrix([\n",
              "[ 4, -3, 7],\n",
              "[-1,  6, 3],\n",
              "[ 2,  9, 1]])"
            ],
            "text/latex": "$\\displaystyle \\left[\\begin{matrix}4 & -3 & 7\\\\-1 & 6 & 3\\\\2 & 9 & 1\\end{matrix}\\right]$"
          },
          "metadata": {},
          "execution_count": 30
        }
      ]
    },
    {
      "cell_type": "code",
      "source": [
        "det_A = A.det() #obliczamy wyznacznik macierzy A\n",
        "det_A"
      ],
      "metadata": {
        "id": "IGER0DbW0C7H",
        "outputId": "30dba1a1-c5c6-457d-f7a2-3a0105216657",
        "colab": {
          "base_uri": "https://localhost:8080/",
          "height": 37
        }
      },
      "execution_count": null,
      "outputs": [
        {
          "output_type": "execute_result",
          "data": {
            "text/plain": [
              "-252"
            ],
            "text/latex": "$\\displaystyle -252$"
          },
          "metadata": {},
          "execution_count": 31
        }
      ]
    },
    {
      "cell_type": "markdown",
      "source": [
        "Dla macierzy 𝐴 obliczony wyznacznik wyniósł −252, co oznacza, że macierz jest pełnego rzędu 3"
      ],
      "metadata": {
        "id": "tXCX_fLM5okC"
      }
    }
  ],
  "metadata": {
    "kernelspec": {
      "display_name": "Python 3",
      "language": "python",
      "name": "python3"
    },
    "language_info": {
      "codemirror_mode": {
        "name": "ipython",
        "version": 3
      },
      "file_extension": ".py",
      "mimetype": "text/x-python",
      "name": "python",
      "nbconvert_exporter": "python",
      "pygments_lexer": "ipython3",
      "version": "3.11.9"
    },
    "colab": {
      "provenance": [],
      "include_colab_link": true
    }
  },
  "nbformat": 4,
  "nbformat_minor": 0
}