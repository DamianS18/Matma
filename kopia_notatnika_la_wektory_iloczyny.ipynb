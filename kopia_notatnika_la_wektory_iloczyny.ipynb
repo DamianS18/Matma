{
  "cells": [
    {
      "cell_type": "markdown",
      "metadata": {
        "id": "view-in-github",
        "colab_type": "text"
      },
      "source": [
        "<a href=\"https://colab.research.google.com/github/DamianS18/Matma/blob/main/kopia_notatnika_la_wektory_iloczyny.ipynb\" target=\"_parent\"><img src=\"https://colab.research.google.com/assets/colab-badge.svg\" alt=\"Open In Colab\"/></a>"
      ]
    },
    {
      "cell_type": "markdown",
      "metadata": {
        "id": "xETddxtNDba7"
      },
      "source": [
        "# Wektory - Iloczyn skalarny, wektorowy, mieszany"
      ]
    },
    {
      "cell_type": "markdown",
      "metadata": {
        "id": "Sevmv8aCDba9"
      },
      "source": [
        "\n",
        "## Iloczyn skalarny\n",
        "\n",
        "Iloczyn skalarny (zwany również iloczynem wewnętrznym) dwóch wektorów to operacja, która zwraca skalarną wartość. Jest definiowany jako suma iloczynów odpowiadających sobie współrzędnych dwóch wektorów.\n",
        "\n",
        "Dla dwóch wektorów $\\mathbf{a}$ i $\\mathbf{b}$ w przestrzeni $\\mathbb{R}^n$, gdzie:\n",
        "\n",
        "$$\n",
        "\\mathbf{a} = [a_1, a_2, \\dots, a_n], \\quad \\mathbf{b} = [b_1, b_2, \\dots, b_n]\n",
        "$$\n",
        "\n",
        "Iloczyn skalarny definiuje się następująco:\n",
        "\n",
        "$$\n",
        "\\mathbf{a} \\cdot \\mathbf{b} = a_1b_1 + a_2b_2 + \\dots + a_nb_n = \\sum_{i=1}^{n} a_i b_i\n",
        "$$\n",
        "\n",
        "Przykład dla przestrzeni trójwymiarowej ($ \\mathbb{R}^3 $):\n",
        "\n",
        "Dla wektorów $\\mathbf{a} = [a_1, a_2, a_3]$ oraz $\\mathbf{b} = [b_1, b_2, b_3]$, iloczyn skalarny to:\n",
        "\n",
        "$$\n",
        "\\mathbf{a} \\cdot \\mathbf{b} = a_1b_1 + a_2b_2 + a_3b_3\n",
        "$$\n",
        "\n",
        "Iloczyn skalarny zwraca liczbę, która jest miarą \"podobieństwa kierunku\" dwóch wektorów. Jeśli $\\mathbf{a} \\cdot \\mathbf{b} = 0$, to wektory są prostopadłe.\n",
        "\n",
        "Alternatywnie, iloczyn skalarny można zapisać jako:\n",
        "\n",
        "$$\n",
        "\\mathbf{a} \\cdot \\mathbf{b} = \\|\\mathbf{a}\\| \\|\\mathbf{b}\\| \\cos(\\theta),\n",
        "$$\n",
        "czyli iloczyn długości wektorów $\\mathbf{a}$ i $\\mathbf{b}$ pomnożony przez cosinus kąta między nimi."
      ]
    },
    {
      "cell_type": "markdown",
      "metadata": {
        "id": "iyG9jna1Dba-"
      },
      "source": [
        "## Iloczyn wektorowy\n",
        "\n",
        "Iloczyn wektorowy (zwany również iloczynem zewnętrznym) to operacja, która zwraca nowy wektor prostopadły do dwóch wektorów wyjściowych. Jest zdefiniowany tylko w przestrzeni trójwymiarowej $ \\mathbb{R}^3 $.\n",
        "\n",
        "Dla dwóch wektorów $ \\mathbf{a} = [a_1, a_2, a_3] $ oraz $ \\mathbf{b} = [b_1, b_2, b_3] $, iloczyn wektorowy $ \\mathbf{a} \\times \\mathbf{b} $ definiuje się jako:\n",
        "\n",
        "$$ \\mathbf{a} \\times \\mathbf{b} =\n",
        "\\begin{vmatrix}\n",
        "\\mathbf{i} & \\mathbf{j} & \\mathbf{k} \\\\\n",
        "a_1 & a_2 & a_3 \\\\\n",
        "b_1 & b_2 & b_3\n",
        "\\end{vmatrix}\n",
        "$$\n",
        "\n",
        "Gdzie $ \\mathbf{i}, \\mathbf{j}, \\mathbf{k} $ to wektory jednostkowe wzdłuż osi $ x, y, z $. Dość zabawnie, aby policzyć iloczyny wektorowy i otrzymać finalny wektor używamy wyznacznika (skalara) z macierzy (tensor drugiego rzędu), wierszami której są wektory bazowe (wektory) i składowe wektorów (skalary).\n",
        "\n",
        "Iloczyn wektorowy można zapisać w postaci rozwiniętej:\n",
        "\n",
        "$$ \\mathbf{a} \\times \\mathbf{b} = \\left( a_2b_3 - a_3b_2 \\right)\\mathbf{i} - \\left( a_1b_3 - a_3b_1 \\right)\\mathbf{j} + \\left( a_1b_2 - a_2b_1 \\right)\\mathbf{k} $$\n",
        "\n",
        "Wynikiem iloczynu wektorowego jest nowy wektor:\n",
        "\n",
        "$$ \\mathbf{c} = \\mathbf{a} \\times \\mathbf{b} = [a_2b_3 - a_3b_2, a_3b_1 - a_1b_3, a_1b_2 - a_2b_1] $$\n",
        "\n",
        "Iloczyn wektorowy zwraca wektor $\\mathbf{c}$ prostopadły do płaszczyzny wyznaczonej przez $ \\mathbf{a} $ i $ \\mathbf{b} $, a jego długość jest równa powierzchni równoległoboku, którego boki są wyznaczone przez wektory $ \\mathbf{a} $ i $ \\mathbf{b} $\n",
        "$$\n",
        "|\\mathbf{c}| = |\\mathbf{a}| |\\mathbf{b}| \\sin \\theta\n",
        "$$\n",
        "\n",
        "gdzie $\\theta$ jest kątem między wektorami. Kierunek wektora $\\vec{c}$ określa reguła prawej dłoni."
      ]
    },
    {
      "cell_type": "markdown",
      "metadata": {
        "id": "nj5XN_KrDba_"
      },
      "source": [
        "## Iloczyn mieszany\n",
        "\n",
        "Iloczyn mieszany trzech wektorów $\\mathbf{a}, \\mathbf{b}, \\mathbf{c}$ jest definiowany jako:\n",
        "\n",
        "$$\n",
        "\\mathbf{a} \\cdot \\left( \\mathbf{b} \\times \\mathbf{c} \\right)\n",
        "$$\n",
        "\n",
        "Jest to równoważne iloczynowi skalarnemu $\\mathbf{a} \\times \\left( \\mathbf{b} \\times \\mathbf{c} \\right)$.\n",
        "\n",
        "Iloczyn mieszany jest równy zero, jeśli wektory $\\mathbf{a}, \\mathbf{b}, \\mathbf{c}$ są współliniowe lub równoległe.\n",
        "\n",
        "Objętość równoległościanu wyznaczonego przez trzy wektory $\\mathbf{a}, \\mathbf{b}, \\mathbf{c}$ jest równa wartości bezwzględnej iloczynu mieszanej tych wektorów."
      ]
    },
    {
      "cell_type": "markdown",
      "metadata": {
        "id": "N3cId4MaDbbA"
      },
      "source": [
        "## Implementacja"
      ]
    },
    {
      "cell_type": "code",
      "execution_count": 142,
      "metadata": {
        "id": "o9rUlVFADbbA"
      },
      "outputs": [],
      "source": [
        "import sympy as sp\n",
        "# Definicje wektorów\n",
        "a = sp.Matrix([1, 2, 3])\n",
        "b = sp.Matrix([4, 5, 6])\n",
        "c= sp.Matrix([7, 0, 9])\n",
        "d= sp.Matrix([0, 2, 0])"
      ]
    },
    {
      "cell_type": "code",
      "execution_count": 143,
      "metadata": {
        "id": "kVy9ccBODbbB",
        "outputId": "be406f1a-da2e-4d5a-8239-5d3662368f84",
        "colab": {
          "base_uri": "https://localhost:8080/",
          "height": 78
        }
      },
      "outputs": [
        {
          "output_type": "execute_result",
          "data": {
            "text/plain": [
              "Matrix([\n",
              "[7],\n",
              "[0],\n",
              "[9]])"
            ],
            "text/latex": "$\\displaystyle \\left[\\begin{matrix}7\\\\0\\\\9\\end{matrix}\\right]$"
          },
          "metadata": {},
          "execution_count": 143
        }
      ],
      "source": [
        "# wyświetlenie wektora c\n",
        "c"
      ]
    },
    {
      "cell_type": "code",
      "execution_count": 144,
      "metadata": {
        "id": "TYCiQVZ3DbbD",
        "outputId": "28706aec-cc01-454a-bc94-d694af24f561",
        "colab": {
          "base_uri": "https://localhost:8080/",
          "height": 78
        }
      },
      "outputs": [
        {
          "output_type": "execute_result",
          "data": {
            "text/plain": [
              "Matrix([\n",
              "[5],\n",
              "[7],\n",
              "[9]])"
            ],
            "text/latex": "$\\displaystyle \\left[\\begin{matrix}5\\\\7\\\\9\\end{matrix}\\right]$"
          },
          "metadata": {},
          "execution_count": 144
        }
      ],
      "source": [
        "# dodawanie wektorów a i b\n",
        "a+b"
      ]
    },
    {
      "cell_type": "code",
      "execution_count": 145,
      "metadata": {
        "id": "mMwFDynXDbbD",
        "outputId": "150594ff-837a-45fa-99ce-8c752629cafd",
        "colab": {
          "base_uri": "https://localhost:8080/"
        }
      },
      "outputs": [
        {
          "output_type": "execute_result",
          "data": {
            "text/plain": [
              "True"
            ]
          },
          "metadata": {},
          "execution_count": 145
        }
      ],
      "source": [
        "# iloczyn skalarny a i b\n",
        "(1*4+2*5+3*6)==a.dot(b)"
      ]
    },
    {
      "cell_type": "code",
      "execution_count": 146,
      "metadata": {
        "id": "i2bu_cmCDbbE",
        "outputId": "bba0e3d9-c67a-4271-ac91-adf850a3c579",
        "colab": {
          "base_uri": "https://localhost:8080/"
        }
      },
      "outputs": [
        {
          "output_type": "execute_result",
          "data": {
            "text/plain": [
              "True"
            ]
          },
          "metadata": {},
          "execution_count": 146
        }
      ],
      "source": [
        "#iloczyn wektorowy a i c\n",
        "# a = [1, 2, 3]\n",
        "# c= [7, 0, 9]\n",
        "\n",
        "# Pomocniczo zapiszmy wektory jako macierze 3x3\n",
        "# i, j, k\n",
        "# 1, 2, 3\n",
        "# 7, 0, 9\n",
        "\n",
        "# Teraz\n",
        "comp1 = (2*9-3*0)\n",
        "comp2 = -(1*9-3*7)\n",
        "comp3 = (1*0-2*7)\n",
        "\n",
        "# Wynik\n",
        "sp.Matrix([comp1, comp2, comp3])==a.cross(c) #funkcja comp słozy do porónywania dwóch obiektów"
      ]
    },
    {
      "cell_type": "code",
      "execution_count": 147,
      "metadata": {
        "id": "yhFQaz8mDbbF",
        "outputId": "90c6afbe-78cb-4830-b472-48cb06e1a3d8",
        "colab": {
          "base_uri": "https://localhost:8080/"
        }
      },
      "outputs": [
        {
          "output_type": "execute_result",
          "data": {
            "text/plain": [
              "True"
            ]
          },
          "metadata": {},
          "execution_count": 147
        }
      ],
      "source": [
        "# Prostopadłość wektorów\n",
        "# c= [7, 0, 9]\n",
        "# d= [0, 2, 0]\n",
        "\n",
        "# Jeśli iloczyn skalarny wektorów jest równy 0, to znaczy, że są one prostopadłe\n",
        "iloczyn_skalarny = 7*0+0*2+9*0\n",
        "iloczyn_skalarny==0"
      ]
    },
    {
      "cell_type": "markdown",
      "metadata": {
        "id": "Vij7tvvxDbbG"
      },
      "source": [
        "## Zastosowania\n",
        "\n",
        "### Obliczanie kąta między wektorami\n",
        "\n",
        "$$\n",
        "\\cos \\theta = \\frac{\\mathbf{a} \\cdot \\mathbf{b}}{\\|\\mathbf{a}\\| \\|\\mathbf{b}\\|}\n",
        "$$\n",
        "\n",
        "### Sprawdzanie prostopadłości wektorów\n",
        "\n",
        "Wektory $\\mathbf{a}$ i $\\mathbf{b}$ są prostopadłe, jeśli ich iloczyn skalarny wynosi zero:\n",
        "$$\n",
        "\\mathbf{a} \\cdot \\mathbf{b} = 0\n",
        "\\quad \\Leftrightarrow \\quad\n",
        " \\mathbf{a} \\perp \\mathbf{b}\n",
        "$$\n",
        "\n",
        "### Znajdowanie rzutów wektorów na inne wektory\n",
        "\n",
        "$$\n",
        "\\text{Rzut} = \\frac{\\mathbf{a} \\cdot \\mathbf{b}}{\\|\\mathbf{b}\\|}\n",
        "$$\n",
        "\n",
        "### Obliczanie pracy wykonanej przez siłę w fizyce\n",
        "\n",
        "Dla siły $\\mathbf{F} = (F_x, F_y, F_z)$ działającej wzdłuż przemieszczenia $\\mathbf{d} = (d_x, d_y, d_z)$, praca obliczana jest zgodnie ze wzorem:\n",
        "\n",
        "$$\n",
        "W = \\mathbf{F} \\cdot \\mathbf{d} = |\\mathbf{F}| |\\mathbf{d}| \\cos \\theta = F_x d_x + F_y d_y + F_z d_z\n",
        "$$"
      ]
    },
    {
      "cell_type": "markdown",
      "metadata": {
        "id": "JFca_lW4DbbG"
      },
      "source": [
        "### Moment siły\n",
        "\n",
        "W fizyce: moment siły (moment obrotowy) to iloczyn wektorowy wektora siły i ramienia:\n",
        "\n",
        "$$\n",
        "\\mathbf{M} = \\mathbf{r} \\times \\mathbf{F}\n",
        "$$\n",
        "\n",
        "### Obliczanie pola równoległoboku\n",
        "\n",
        "Pole równoległoboku rozpiętego na dwóch wektorach:\n",
        "\n",
        "$$\n",
        "\\text{Area}_{r} = \\mathbf{a} \\times \\mathbf{b} = |\\mathbf{a}| |\\mathbf{b}| \\sin \\theta\n",
        "$$\n",
        "\n",
        "### Obliczanie pola trójkąta\n",
        "\n",
        "Pole trójkąta rozpiętego na dwóch wektorach $\\mathbf{a}$ i $\\mathbf{b}$:\n",
        "\n",
        "$$\n",
        "\\text{Area}_{t} = \\frac{1}{2} |\\mathbf{a} \\times \\mathbf{b}|\n",
        "$$"
      ]
    },
    {
      "cell_type": "markdown",
      "metadata": {
        "id": "AT-aupA9DbbH"
      },
      "source": [
        "### Obliczanie objętości równoległościanów i czworościanów\n",
        "\n",
        "Iloczyn mieszany wektorów jest używany do obliczania objętości równoległościanów i czworościanów. Dla trzech wektorów **$\\mathbf{a}$**, **$\\mathbf{b}$** i **$\\mathbf{c}$**, objętość równoległościanu jest dana wzorem:\n",
        "\n",
        "$$\n",
        "V = |\\mathbf{a} \\cdot (\\mathbf{b} \\times \\mathbf{c})|\n",
        "$$\n",
        "(Uwaga: **| |** oznacza tutaj wartość bezwzględną, a nie długość!)\n",
        "\n",
        "### Sprawdzanie współpłaszczyznowości trzech wektorów\n",
        "\n",
        "Jeśli iloczyn mieszany trzech wektorów jest równy zeru, oznacza to, że wektory są współpłaszczyznowe. W przeciwnym razie, tworzą one czworościan."
      ]
    },
    {
      "cell_type": "markdown",
      "metadata": {
        "id": "MC5qoXb4DbbH"
      },
      "source": [
        "---\n",
        "\n",
        "## Zadania dla studentów\n",
        "\n",
        "A. Zrealizuj dodawanie wektora $[2, 1]$ do wektora $[-1, 1]$. Zaznacz oba wektory oraz ich sumę na wykresie.\n",
        "\n",
        "B. Policz pole trójkąta rozpiętego na wektorach $[2, 1]$ i $[-1, 1]$.\n",
        "\n",
        "C. Policz objętość równoległościanu rozpiętego na wektorach $[2, 1]$, $[-1, 1]$ i $[1, 2]$.\n",
        "\n",
        "D. Sprawdź, czy wektory $[2, 1]$ i $[-1, 1]$ są prostopadłe.\n",
        "\n",
        "E. Policz kąt w stopniach między wektorami $[4,2,1]$ a $[1,3,2]$.\n",
        "\n",
        "F. Dla wektorów trójwymiarowych: $\\mathbf{a}=[a_x, a_y, a_z]$, $\\mathbf{b}=[b_x, b_y, b_z]$, $\\mathbf{c}=[c_x, c_y, c_z]$, udowodnij, że spełniona jest tożsamość:\n",
        "\n",
        "$$\n",
        "\\mathbf{a} \\times (\\mathbf{b} \\times \\mathbf{c}) = (\\mathbf{a} \\cdot \\mathbf{c}) \\mathbf{b} - (\\mathbf{a} \\cdot \\mathbf{b}) \\mathbf{c}.\n",
        "$$"
      ]
    },
    {
      "cell_type": "code",
      "source": [
        "a = sp.Matrix([2,1])\n",
        "b = sp.Matrix([-1,1])\n",
        "a+b"
      ],
      "metadata": {
        "id": "qhEy4y6XJxMV",
        "outputId": "b0c0c896-28e5-4724-90c5-02883aba5cbf",
        "colab": {
          "base_uri": "https://localhost:8080/",
          "height": 58
        }
      },
      "execution_count": 148,
      "outputs": [
        {
          "output_type": "execute_result",
          "data": {
            "text/plain": [
              "Matrix([\n",
              "[1],\n",
              "[2]])"
            ],
            "text/latex": "$\\displaystyle \\left[\\begin{matrix}1\\\\2\\end{matrix}\\right]$"
          },
          "metadata": {},
          "execution_count": 148
        }
      ]
    },
    {
      "cell_type": "code",
      "source": [
        "import sympy as sp\n",
        "import matplotlib.pyplot as plt\n",
        "\n",
        "# Obliczanie sumy\n",
        "v_sum = a + b\n",
        "\n",
        "# Rysowanie wykresu\n",
        "plt.figure(figsize=(6, 6))\n",
        "plt.axhline(0, color='black', linewidth=0.5)\n",
        "plt.axvline(0, color='black', linewidth=0.5)\n",
        "plt.grid(color='gray', linestyle='--', linewidth=0.5)\n",
        "\n",
        "# Wektory na wykresie\n",
        "# Convert Sympy Integers to Python Integers using int()\n",
        "plt.quiver(0, 0, int(a[0]), int(a[1]), angles='xy', scale_units='xy', scale=1, color='blue', label='a [2, 1]')\n",
        "plt.quiver(0, 0, int(b[0]), int(b[1]), angles='xy', scale_units='xy', scale=1, color='green', label='b [-1, 1]')\n",
        "plt.quiver(0, 0, int(v_sum[0]), int(v_sum[1]), angles='xy', scale_units='xy', scale=1, color='red', label='a + b [1, 2]')\n",
        "\n",
        "# Ustawienia osi\n",
        "plt.xlim(-2, 3)\n",
        "plt.ylim(-1, 3)\n",
        "plt.gca().set_aspect('equal', adjustable='box')\n",
        "\n",
        "# Legenda i tytuł\n",
        "plt.legend()\n",
        "plt.title(\"Dodawanie wektorów w przestrzeni 2D\")\n",
        "plt.show()"
      ],
      "metadata": {
        "id": "fRjOOYaZMJHe",
        "outputId": "5358fd68-9bfc-4250-9ec7-f3cd341dfd11",
        "colab": {
          "base_uri": "https://localhost:8080/",
          "height": 455
        }
      },
      "execution_count": 149,
      "outputs": [
        {
          "output_type": "display_data",
          "data": {
            "text/plain": [
              "<Figure size 600x600 with 1 Axes>"
            ],
            "image/png": "[encoded data removed]"
          },
          "metadata": {}
        }
      ]
    },
    {
      "cell_type": "code",
      "source": [
        "# Definicja wektorów\n",
        "A = sp.Matrix([2, 1])\n",
        "B = sp.Matrix([-1, 1])\n",
        "\n",
        "#korzystamy ze wzoru Areat=1/2|a×b|\n",
        "AB = (2 * 1)-(1 * (-1)) #obliczamy iloczyn wektorów A i B\n",
        "pole = (1/2) * AB #wyliczamy pole trójkąta\n",
        "\n",
        "pole"
      ],
      "metadata": {
        "id": "SM5mDq-WMZ6Q",
        "outputId": "9c8c84d0-ebe0-43f6-e72f-3496467925bc",
        "colab": {
          "base_uri": "https://localhost:8080/"
        }
      },
      "execution_count": 150,
      "outputs": [
        {
          "output_type": "execute_result",
          "data": {
            "text/plain": [
              "1.5"
            ]
          },
          "metadata": {},
          "execution_count": 150
        }
      ]
    },
    {
      "cell_type": "code",
      "source": [
        "# Definicja wektorów\n",
        "A = sp.Matrix([2,1,0]) #karzdy wektor musimy rozszerzyć do 3 kolumn\n",
        "B = sp.Matrix([-1,1,0])\n",
        "C = sp.Matrix([1,2,0])\n",
        "\n",
        "AB = (1*0 - 0*1),(2*0 - 0*(-1)),(-1*2 - 1*1) #obliczamy iloczyn wektorów A i B\n",
        "V = C.dot(AB) #mnożymy wektor A i B przez C\n",
        "V"
      ],
      "metadata": {
        "id": "GtxGI4_KNvQr",
        "outputId": "5b9818cf-eb51-4887-d049-37fe98acad04",
        "colab": {
          "base_uri": "https://localhost:8080/",
          "height": 37
        }
      },
      "execution_count": 151,
      "outputs": [
        {
          "output_type": "execute_result",
          "data": {
            "text/plain": [
              "0"
            ],
            "text/latex": "$\\displaystyle 0$"
          },
          "metadata": {},
          "execution_count": 151
        }
      ]
    },
    {
      "cell_type": "code",
      "source": [
        "# Definicja wektorów\n",
        "A = sp.Matrix([2,1])\n",
        "B = sp.Matrix([-1,1])\n",
        "\n",
        "AB = A.dot(B)\n",
        "AB #jeśli wynik wyjdzie 0 to wektorwy są prostopadłe, każdy innny wynik oznacza że wektory nie są prostopadłe"
      ],
      "metadata": {
        "id": "VaTBvTuF5fAi",
        "outputId": "2e2eb789-1de8-4872-eae4-0146638811c2",
        "colab": {
          "base_uri": "https://localhost:8080/",
          "height": 37
        }
      },
      "execution_count": 152,
      "outputs": [
        {
          "output_type": "execute_result",
          "data": {
            "text/plain": [
              "-1"
            ],
            "text/latex": "$\\displaystyle -1$"
          },
          "metadata": {},
          "execution_count": 152
        }
      ]
    },
    {
      "cell_type": "code",
      "source": [
        "# Definicja wektorów\n",
        "A = sp.Matrix([4,2,1])\n",
        "B = sp.Matrix([1,3,2])\n",
        "\n",
        "AB = A.dot(B)\n",
        "\n",
        "AB_nor = A.norm() * B.norm()\n",
        "\n",
        "cos = AB / AB_nor\n",
        "\n",
        "kat_rad = sp.acos(cos)\n",
        "degrees = sp.deg(kat_rad) # Kąt w stopniach\n",
        "\n",
        "kat_deg = kat_rad * 180 / sp.pi # Kąt w stopniach\n",
        "kat_deg\n"
      ],
      "metadata": {
        "id": "e0NBEVjU9IEi",
        "outputId": "50df29da-f5dd-4cb7-8fee-3695ee262920",
        "colab": {
          "base_uri": "https://localhost:8080/",
          "height": 66
        }
      },
      "execution_count": 153,
      "outputs": [
        {
          "output_type": "execute_result",
          "data": {
            "text/plain": [
              "180*acos(2*sqrt(6)/7)/pi"
            ],
            "text/latex": "$\\displaystyle \\frac{180 \\operatorname{acos}{\\left(\\frac{2 \\sqrt{6}}{7} \\right)}}{\\pi}$"
          },
          "metadata": {},
          "execution_count": 153
        }
      ]
    },
    {
      "cell_type": "code",
      "source": [
        "# Definicja wektorów\n",
        "a = sp.Matrix([ax, ay, az])\n",
        "b = sp.Matrix([bx, by, bz])\n",
        "c = sp.Matrix([cx, cy, cz])"
      ],
      "metadata": {
        "id": "VCwhP-kaK4j0"
      },
      "execution_count": 154,
      "outputs": []
    },
    {
      "cell_type": "code",
      "source": [
        "b_cross_c = b.cross(c) #lewa strona\n",
        "b_cross_c"
      ],
      "metadata": {
        "id": "xPWAqKHCLRrX",
        "outputId": "d91fa9c1-a47d-4943-a6ba-19266428fa84",
        "colab": {
          "base_uri": "https://localhost:8080/",
          "height": 78
        }
      },
      "execution_count": 155,
      "outputs": [
        {
          "output_type": "execute_result",
          "data": {
            "text/plain": [
              "Matrix([\n",
              "[ b_y*c_z - b_z*c_y],\n",
              "[-b_x*c_z + b_z*c_x],\n",
              "[ b_x*c_y - b_y*c_x]])"
            ],
            "text/latex": "$\\displaystyle \\left[\\begin{matrix}b_{y} c_{z} - b_{z} c_{y}\\\\- b_{x} c_{z} + b_{z} c_{x}\\\\b_{x} c_{y} - b_{y} c_{x}\\end{matrix}\\right]$"
          },
          "metadata": {},
          "execution_count": 155
        }
      ]
    },
    {
      "cell_type": "code",
      "source": [
        "a_cross_b_cross_c = a.cross(b_cross_c) #lewa strona\n",
        "a_cross_b_cross_c"
      ],
      "metadata": {
        "id": "WenVZpFCLnC8",
        "outputId": "6d3ee59c-22e8-4a2c-90bd-c0ddd4f6142e",
        "colab": {
          "base_uri": "https://localhost:8080/",
          "height": 78
        }
      },
      "execution_count": 156,
      "outputs": [
        {
          "output_type": "execute_result",
          "data": {
            "text/plain": [
              "Matrix([\n",
              "[a_y*(b_x*c_y - b_y*c_x) - a_z*(-b_x*c_z + b_z*c_x)],\n",
              "[-a_x*(b_x*c_y - b_y*c_x) + a_z*(b_y*c_z - b_z*c_y)],\n",
              "[a_x*(-b_x*c_z + b_z*c_x) - a_y*(b_y*c_z - b_z*c_y)]])"
            ],
            "text/latex": "$\\displaystyle \\left[\\begin{matrix}a_{y} \\left(b_{x} c_{y} - b_{y} c_{x}\\right) - a_{z} \\left(- b_{x} c_{z} + b_{z} c_{x}\\right)\\\\- a_{x} \\left(b_{x} c_{y} - b_{y} c_{x}\\right) + a_{z} \\left(b_{y} c_{z} - b_{z} c_{y}\\right)\\\\a_{x} \\left(- b_{x} c_{z} + b_{z} c_{x}\\right) - a_{y} \\left(b_{y} c_{z} - b_{z} c_{y}\\right)\\end{matrix}\\right]$"
          },
          "metadata": {},
          "execution_count": 156
        }
      ]
    },
    {
      "cell_type": "code",
      "source": [
        "a_dot_c = a.dot(c) #prawa strona\n",
        "a_dot_c"
      ],
      "metadata": {
        "id": "wxjlTCy3L61h",
        "outputId": "52129496-fd31-4bdf-e327-d4dfca6a1ba0",
        "colab": {
          "base_uri": "https://localhost:8080/",
          "height": 38
        }
      },
      "execution_count": 157,
      "outputs": [
        {
          "output_type": "execute_result",
          "data": {
            "text/plain": [
              "a_x*c_x + a_y*c_y + a_z*c_z"
            ],
            "text/latex": "$\\displaystyle a_{x} c_{x} + a_{y} c_{y} + a_{z} c_{z}$"
          },
          "metadata": {},
          "execution_count": 157
        }
      ]
    },
    {
      "cell_type": "code",
      "source": [
        "a_dot_b = a.dot(b) #prawa strona\n",
        "a_dot_b"
      ],
      "metadata": {
        "id": "37YQHbtHMLPS",
        "outputId": "723c3ad2-1859-4b54-e928-5a3d8362e410",
        "colab": {
          "base_uri": "https://localhost:8080/",
          "height": 38
        }
      },
      "execution_count": 158,
      "outputs": [
        {
          "output_type": "execute_result",
          "data": {
            "text/plain": [
              "a_x*b_x + a_y*b_y + a_z*b_z"
            ],
            "text/latex": "$\\displaystyle a_{x} b_{x} + a_{y} b_{y} + a_{z} b_{z}$"
          },
          "metadata": {},
          "execution_count": 158
        }
      ]
    },
    {
      "cell_type": "code",
      "source": [
        "psr = (a_dot_c * b) - (a_dot_b * c) #psr= prawa strona równania\n",
        "psr"
      ],
      "metadata": {
        "id": "Sm9PbXBIMDBZ",
        "outputId": "6f5d5c67-5662-47fa-aa8c-62974a2a8033",
        "colab": {
          "base_uri": "https://localhost:8080/",
          "height": 78
        }
      },
      "execution_count": 159,
      "outputs": [
        {
          "output_type": "execute_result",
          "data": {
            "text/plain": [
              "Matrix([\n",
              "[b_x*(a_x*c_x + a_y*c_y + a_z*c_z) - c_x*(a_x*b_x + a_y*b_y + a_z*b_z)],\n",
              "[b_y*(a_x*c_x + a_y*c_y + a_z*c_z) - c_y*(a_x*b_x + a_y*b_y + a_z*b_z)],\n",
              "[b_z*(a_x*c_x + a_y*c_y + a_z*c_z) - c_z*(a_x*b_x + a_y*b_y + a_z*b_z)]])"
            ],
            "text/latex": "$\\displaystyle \\left[\\begin{matrix}b_{x} \\left(a_{x} c_{x} + a_{y} c_{y} + a_{z} c_{z}\\right) - c_{x} \\left(a_{x} b_{x} + a_{y} b_{y} + a_{z} b_{z}\\right)\\\\b_{y} \\left(a_{x} c_{x} + a_{y} c_{y} + a_{z} c_{z}\\right) - c_{y} \\left(a_{x} b_{x} + a_{y} b_{y} + a_{z} b_{z}\\right)\\\\b_{z} \\left(a_{x} c_{x} + a_{y} c_{y} + a_{z} c_{z}\\right) - c_{z} \\left(a_{x} b_{x} + a_{y} b_{y} + a_{z} b_{z}\\right)\\end{matrix}\\right]$"
          },
          "metadata": {},
          "execution_count": 159
        }
      ]
    },
    {
      "cell_type": "code",
      "source": [
        "ckd = sp.simplify(a_cross_b_cross_c - rhs) #Funkcja simplify w SymPy próbuje uprościć wyrażenie a_cross_b_cross_c - rhs, aby sprawdzić, czy różnica wynosi 0. Jeśli tak, to tożsamość jest prawdziwa.\n",
        "ckd"
      ],
      "metadata": {
        "id": "DAGYdGT9MUme",
        "outputId": "042a71ae-2c67-45b5-886d-985d0cfeda8c",
        "colab": {
          "base_uri": "https://localhost:8080/",
          "height": 78
        }
      },
      "execution_count": 161,
      "outputs": [
        {
          "output_type": "execute_result",
          "data": {
            "text/plain": [
              "Matrix([\n",
              "[0],\n",
              "[0],\n",
              "[0]])"
            ],
            "text/latex": "$\\displaystyle \\left[\\begin{matrix}0\\\\0\\\\0\\end{matrix}\\right]$"
          },
          "metadata": {},
          "execution_count": 161
        }
      ]
    },
    {
      "cell_type": "markdown",
      "source": [
        "F. Dla wektorów trójwymiarowych: $\\mathbf{a}=[a_x, a_y, a_z]$, $\\mathbf{b}=[b_x, b_y, b_z]$, $\\mathbf{c}=[c_x, c_y, c_z]$, udowodnij, że spełniona jest tożsamość:\n",
        "\n",
        "$$\n",
        "\\mathbf{a} \\times (\\mathbf{b} \\times \\mathbf{c}) = (\\mathbf{a} \\cdot \\mathbf{c}) \\mathbf{b} - (\\mathbf{a} \\cdot \\mathbf{b}) \\mathbf{c}.\n",
        "$$"
      ],
      "metadata": {
        "id": "T4IHAuJSLVqT"
      }
    },
    {
      "cell_type": "markdown",
      "metadata": {
        "id": "cX5cUWNsDbbI"
      },
      "source": []
    }
  ],
  "metadata": {
    "kernelspec": {
      "display_name": "Python 3",
      "language": "python",
      "name": "python3"
    },
    "language_info": {
      "codemirror_mode": {
        "name": "ipython",
        "version": 3
      },
      "file_extension": ".py",
      "mimetype": "text/x-python",
      "name": "python",
      "nbconvert_exporter": "python",
      "pygments_lexer": "ipython3",
      "version": "3.11.9"
    },
    "colab": {
      "provenance": [],
      "include_colab_link": true
    }
  },
  "nbformat": 4,
  "nbformat_minor": 0
}