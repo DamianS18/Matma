{
  "nbformat": 4,
  "nbformat_minor": 0,
  "metadata": {
    "colab": {
      "provenance": [],
      "authorship_tag": "ABX9TyMaFNp2/RiC4L+0Vfl2sKtv",
      "include_colab_link": true
    },
    "kernelspec": {
      "name": "python3",
      "display_name": "Python 3"
    },
    "language_info": {
      "name": "python"
    }
  },
  "cells": [
    {
      "cell_type": "markdown",
      "metadata": {
        "id": "view-in-github",
        "colab_type": "text"
      },
      "source": [
        "<a href=\"https://colab.research.google.com/github/DamianS18/Matma/blob/main/te%C5%9Bcik%201.ipynb\" target=\"_parent\"><img src=\"https://colab.research.google.com/assets/colab-badge.svg\" alt=\"Open In Colab\"/></a>"
      ]
    },
    {
      "cell_type": "code",
      "execution_count": 5,
      "metadata": {
        "id": "LS9ZPBmEAi1u"
      },
      "outputs": [],
      "source": [
        "import sympy as sp\n",
        "\n",
        "A = sp.Matrix ([1,2,3])\n",
        "B = sp.Matrix ([4,5,6])"
      ]
    },
    {
      "cell_type": "code",
      "source": [
        "cross_product = A.cross(B)"
      ],
      "metadata": {
        "id": "5D21-zXHAlTX"
      },
      "execution_count": 10,
      "outputs": []
    },
    {
      "cell_type": "code",
      "source": [
        "sp.pprint(cross_product)"
      ],
      "metadata": {
        "colab": {
          "base_uri": "https://localhost:8080/"
        },
        "id": "1nsDOWWCDr62",
        "outputId": "b2b54786-cde0-4489-d159-3bd15445c57c"
      },
      "execution_count": 11,
      "outputs": [
        {
          "output_type": "stream",
          "name": "stdout",
          "text": [
            "[-3  6  -3]\n"
          ]
        }
      ]
    },
    {
      "cell_type": "code",
      "source": [
        "A = sp.Matrix([\n",
        "    [1, -2, 3],\n",
        "    [4, 0, -5],\n",
        "    [6, 7, 2]])"
      ],
      "metadata": {
        "id": "fbrlNv96Ez-q"
      },
      "execution_count": 12,
      "outputs": []
    },
    {
      "cell_type": "code",
      "source": [
        "2 * A"
      ],
      "metadata": {
        "colab": {
          "base_uri": "https://localhost:8080/",
          "height": 78
        },
        "id": "ps49af8OFmbO",
        "outputId": "264fc146-65df-4c17-c205-b0c97dc12b6b"
      },
      "execution_count": 14,
      "outputs": [
        {
          "output_type": "execute_result",
          "data": {
            "text/plain": [
              "Matrix([\n",
              "[ 2, -4,   6],\n",
              "[ 8,  0, -10],\n",
              "[12, 14,   4]])"
            ],
            "text/latex": "$\\displaystyle \\left[\\begin{matrix}2 & -4 & 6\\\\8 & 0 & -10\\\\12 & 14 & 4\\end{matrix}\\right]$"
          },
          "metadata": {},
          "execution_count": 14
        }
      ]
    },
    {
      "cell_type": "code",
      "source": [
        "A = sp.Matrix ([\n",
        "    [1,0,-2],\n",
        "    [3,-4,5],\n",
        "    [0,6,-1]\n",
        "])\n",
        "\n",
        "B = sp.Matrix ([\n",
        "    [2,-3,4],\n",
        "    [-1,5,0],\n",
        "    [3,-2,1]\n",
        "])"
      ],
      "metadata": {
        "id": "qDj7yFOlGD4C"
      },
      "execution_count": 15,
      "outputs": []
    },
    {
      "cell_type": "code",
      "source": [
        "A + B"
      ],
      "metadata": {
        "colab": {
          "base_uri": "https://localhost:8080/",
          "height": 78
        },
        "id": "np_e9_5sGuO9",
        "outputId": "27fc6d81-79ac-47d3-f6a1-3e1c3f5bc8ac"
      },
      "execution_count": 16,
      "outputs": [
        {
          "output_type": "execute_result",
          "data": {
            "text/plain": [
              "Matrix([\n",
              "[3, -3, 2],\n",
              "[2,  1, 5],\n",
              "[3,  4, 0]])"
            ],
            "text/latex": "$\\displaystyle \\left[\\begin{matrix}3 & -3 & 2\\\\2 & 1 & 5\\\\3 & 4 & 0\\end{matrix}\\right]$"
          },
          "metadata": {},
          "execution_count": 16
        }
      ]
    },
    {
      "cell_type": "code",
      "source": [
        "x, y, z = sp.symbols('x y z')"
      ],
      "metadata": {
        "id": "fjla7_AgHpeU"
      },
      "execution_count": 17,
      "outputs": []
    },
    {
      "cell_type": "code",
      "source": [
        "eq1 = sp.Eq(x + y + z, 6)\n",
        "eq2 = sp.Eq(2*x - y + 3*z, 14)\n",
        "eq3 = sp.Eq(x + 4*y - z, 2)"
      ],
      "metadata": {
        "id": "4LmW_YiJHtIU"
      },
      "execution_count": 18,
      "outputs": []
    },
    {
      "cell_type": "code",
      "source": [
        "solution = sp.solve([eq1, eq2, eq3], (x, y, z))\n",
        "solution"
      ],
      "metadata": {
        "colab": {
          "base_uri": "https://localhost:8080/"
        },
        "id": "T5L-aDjLHxrG",
        "outputId": "97f3b863-0508-4b4f-f42c-b061fc3189df"
      },
      "execution_count": 20,
      "outputs": [
        {
          "output_type": "execute_result",
          "data": {
            "text/plain": [
              "{x: 4, y: 0, z: 2}"
            ]
          },
          "metadata": {},
          "execution_count": 20
        }
      ]
    },
    {
      "cell_type": "code",
      "source": [
        "A = sp.Matrix ([2,-1,3])\n",
        "B = sp.Matrix ([1,4,-2])"
      ],
      "metadata": {
        "id": "YXNTgcfNH9y5"
      },
      "execution_count": 21,
      "outputs": []
    },
    {
      "cell_type": "code",
      "source": [
        "dot_product = A.dot(B)\n",
        "dot_product"
      ],
      "metadata": {
        "colab": {
          "base_uri": "https://localhost:8080/",
          "height": 37
        },
        "id": "dyh-GhHnIIuD",
        "outputId": "4cfc90aa-fe3e-4def-8f80-e80605f0fcd5"
      },
      "execution_count": 25,
      "outputs": [
        {
          "output_type": "execute_result",
          "data": {
            "text/plain": [
              "-8"
            ],
            "text/latex": "$\\displaystyle -8$"
          },
          "metadata": {},
          "execution_count": 25
        }
      ]
    },
    {
      "cell_type": "code",
      "source": [
        "x, y, z, w = sp.symbols('x y z w')"
      ],
      "metadata": {
        "id": "NM8n9e7AIWSQ"
      },
      "execution_count": 27,
      "outputs": []
    },
    {
      "cell_type": "code",
      "source": [
        "eq1 = sp.Eq(x + y + z + w, 10)\n",
        "eq2 = sp.Eq(2*x - y + 3*z + w, 20)\n",
        "eq3 = sp.Eq(x + 4*y - z + w, 15)\n",
        "eq4 = sp.Eq(x - y + z - w, 5)"
      ],
      "metadata": {
        "id": "XQs85KymIj8I"
      },
      "execution_count": 28,
      "outputs": []
    },
    {
      "cell_type": "code",
      "source": [
        "solution = sp.solve([eq1, eq2, eq3, eq4], (x, y, z, w))\n",
        "solution"
      ],
      "metadata": {
        "colab": {
          "base_uri": "https://localhost:8080/"
        },
        "id": "EVv93EMyJVWa",
        "outputId": "8b6b5a0d-7dd8-4b7e-87ad-ef211c780b29"
      },
      "execution_count": 29,
      "outputs": [
        {
          "output_type": "execute_result",
          "data": {
            "text/plain": [
              "{w: 25/2, x: 25, y: -10, z: -35/2}"
            ]
          },
          "metadata": {},
          "execution_count": 29
        }
      ]
    },
    {
      "cell_type": "code",
      "source": [
        "A = sp.Matrix ([\n",
        "    [1,2,3],\n",
        "    [4,5,6],\n",
        "    [7,8,9]\n",
        "])\n",
        "\n",
        "B = sp.Matrix ([\n",
        "    [9,8,7],\n",
        "    [6,5,4],\n",
        "    [3,2,1]\n",
        "])"
      ],
      "metadata": {
        "id": "0sFRTWfVJsii"
      },
      "execution_count": 30,
      "outputs": []
    },
    {
      "cell_type": "code",
      "source": [
        "C = A * B\n",
        "C"
      ],
      "metadata": {
        "colab": {
          "base_uri": "https://localhost:8080/",
          "height": 78
        },
        "id": "YWGKbrvjKLt6",
        "outputId": "5cb4d1d8-630f-4f2b-f74f-683d4b4fac00"
      },
      "execution_count": 31,
      "outputs": [
        {
          "output_type": "execute_result",
          "data": {
            "text/plain": [
              "Matrix([\n",
              "[ 30,  24, 18],\n",
              "[ 84,  69, 54],\n",
              "[138, 114, 90]])"
            ],
            "text/latex": "$\\displaystyle \\left[\\begin{matrix}30 & 24 & 18\\\\84 & 69 & 54\\\\138 & 114 & 90\\end{matrix}\\right]$"
          },
          "metadata": {},
          "execution_count": 31
        }
      ]
    },
    {
      "cell_type": "code",
      "source": [
        "A = sp.Matrix ([\n",
        "    [2,1,3],\n",
        "    [4,0,-1],\n",
        "    [1,-2,2]\n",
        "])"
      ],
      "metadata": {
        "id": "Bl8iNvRsKVu2"
      },
      "execution_count": 32,
      "outputs": []
    },
    {
      "cell_type": "code",
      "source": [
        "det_A = A.det()\n",
        "det_A"
      ],
      "metadata": {
        "colab": {
          "base_uri": "https://localhost:8080/",
          "height": 37
        },
        "id": "0BZGfhB7Kee0",
        "outputId": "006795ed-cc8a-4399-cbbd-3d86154bde34"
      },
      "execution_count": 33,
      "outputs": [
        {
          "output_type": "execute_result",
          "data": {
            "text/plain": [
              "-37"
            ],
            "text/latex": "$\\displaystyle -37$"
          },
          "metadata": {},
          "execution_count": 33
        }
      ]
    }
  ]
}